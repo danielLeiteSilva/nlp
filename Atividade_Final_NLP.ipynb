{
  "nbformat": 4,
  "nbformat_minor": 0,
  "metadata": {
    "colab": {
      "provenance": [],
      "collapsed_sections": [],
      "include_colab_link": true
    },
    "kernelspec": {
      "name": "python3",
      "display_name": "Python 3"
    },
    "language_info": {
      "name": "python"
    }
  },
  "cells": [
    {
      "cell_type": "markdown",
      "metadata": {
        "id": "view-in-github",
        "colab_type": "text"
      },
      "source": [
        "<a href=\"https://colab.research.google.com/github/danielLeiteSilva/nlp/blob/main/Atividade_Final_NLP.ipynb\" target=\"_parent\"><img src=\"https://colab.research.google.com/assets/colab-badge.svg\" alt=\"Open In Colab\"/></a>"
      ]
    },
    {
      "cell_type": "markdown",
      "source": [
        "Faculdade Impacta\n",
        "\n",
        "Daniel Leite Da Silva RA: 2201509\n",
        "\n",
        "João Victor De Andrade Ramos RA:1800883\n",
        "\n",
        "Rafael de Almeida Ronchi RA: 2102995"
      ],
      "metadata": {
        "id": "qHeqEbH04A08"
      }
    },
    {
      "cell_type": "markdown",
      "source": [
        "#Importando Arquivo"
      ],
      "metadata": {
        "id": "SgJByJ9U4VYt"
      }
    },
    {
      "cell_type": "markdown",
      "source": [
        "##Checando ambiente}"
      ],
      "metadata": {
        "id": "jYg6S9quZrDP"
      }
    },
    {
      "cell_type": "markdown",
      "source": [
        "As versões do pandas e do python interferem na leitura desse arquivo."
      ],
      "metadata": {
        "id": "H7CXgAodZtrA"
      }
    },
    {
      "cell_type": "code",
      "source": [
        "!python --version"
      ],
      "metadata": {
        "colab": {
          "base_uri": "https://localhost:8080/"
        },
        "id": "HSBrHq_jScTv",
        "outputId": "667f3f94-1d9c-4018-c4d7-82fd9d328d9b"
      },
      "execution_count": null,
      "outputs": [
        {
          "output_type": "stream",
          "name": "stdout",
          "text": [
            "Python 3.7.13\n"
          ]
        }
      ]
    },
    {
      "cell_type": "code",
      "execution_count": null,
      "metadata": {
        "id": "SJ-IPVqH3_5c"
      },
      "outputs": [],
      "source": [
        "import pandas as pd"
      ]
    },
    {
      "cell_type": "code",
      "source": [
        "pd.__version__"
      ],
      "metadata": {
        "colab": {
          "base_uri": "https://localhost:8080/",
          "height": 35
        },
        "id": "3FuLxHvmRiCX",
        "outputId": "fe36fd3d-b3bd-4c0f-9c8b-d5145550a558"
      },
      "execution_count": null,
      "outputs": [
        {
          "output_type": "execute_result",
          "data": {
            "text/plain": [
              "'1.3.5'"
            ],
            "application/vnd.google.colaboratory.intrinsic+json": {
              "type": "string"
            }
          },
          "metadata": {},
          "execution_count": 3
        }
      ]
    },
    {
      "cell_type": "code",
      "source": [
        "#helper para upload do arquivo zipado, porque vai demorar demais\n",
        "#subir o arquivo descompactado\n",
        "from google.colab import files\n",
        "#files.upload()"
      ],
      "metadata": {
        "id": "70vWUfH94bXm"
      },
      "execution_count": null,
      "outputs": []
    },
    {
      "cell_type": "code",
      "source": [
        "!unzip archive.zip"
      ],
      "metadata": {
        "colab": {
          "base_uri": "https://localhost:8080/"
        },
        "id": "usmTBByfH5L3",
        "outputId": "5911c144-b2a6-433f-d5d8-078f68cd00d2"
      },
      "execution_count": null,
      "outputs": [
        {
          "output_type": "stream",
          "name": "stdout",
          "text": [
            "Archive:  archive.zip\n",
            "  inflating: training.1600000.processed.noemoticon.csv  \n"
          ]
        }
      ]
    },
    {
      "cell_type": "code",
      "source": [
        "#nome das coluna do arquivo\n",
        "colunas=['Target', 'Id', 'Data', 'Flag', 'Usuario', 'Texto']"
      ],
      "metadata": {
        "id": "cUVWIIVM8oI0"
      },
      "execution_count": null,
      "outputs": []
    },
    {
      "cell_type": "markdown",
      "source": [
        "##Lendo o arquivo "
      ],
      "metadata": {
        "id": "rF4spJTeZ3gF"
      }
    },
    {
      "cell_type": "code",
      "source": [
        "df_1 = pd.read_csv('training.1600000.processed.noemoticon.csv', \n",
        "                 encoding = \"latin-1\", \n",
        "                 names=colunas, \n",
        "                on_bad_lines='warn',\n",
        "                #nrows=10000\n",
        "                ) "
      ],
      "metadata": {
        "id": "B0Z8o_So4l_n"
      },
      "execution_count": null,
      "outputs": []
    },
    {
      "cell_type": "markdown",
      "source": [
        "##Validando dados "
      ],
      "metadata": {
        "id": "H6_oU-mQZ_fP"
      }
    },
    {
      "cell_type": "code",
      "source": [
        "total_linha=df_1.shape[0]\n",
        "df_1.shape"
      ],
      "metadata": {
        "colab": {
          "base_uri": "https://localhost:8080/"
        },
        "id": "_qemRUbU8NSf",
        "outputId": "b96d8fec-3280-4ef8-8e03-83fa14ad7ca1"
      },
      "execution_count": null,
      "outputs": [
        {
          "output_type": "execute_result",
          "data": {
            "text/plain": [
              "(1600000, 6)"
            ]
          },
          "metadata": {},
          "execution_count": 8
        }
      ]
    },
    {
      "cell_type": "code",
      "source": [
        "df_1.tail()"
      ],
      "metadata": {
        "colab": {
          "base_uri": "https://localhost:8080/",
          "height": 206
        },
        "id": "Hqa3tYjw8Qat",
        "outputId": "09774f14-04a3-49ec-aab3-2ed9a4ee4f7f"
      },
      "execution_count": null,
      "outputs": [
        {
          "output_type": "execute_result",
          "data": {
            "text/plain": [
              "         Target          Id                          Data      Flag  \\\n",
              "1599995       4  2193601966  Tue Jun 16 08:40:49 PDT 2009  NO_QUERY   \n",
              "1599996       4  2193601969  Tue Jun 16 08:40:49 PDT 2009  NO_QUERY   \n",
              "1599997       4  2193601991  Tue Jun 16 08:40:49 PDT 2009  NO_QUERY   \n",
              "1599998       4  2193602064  Tue Jun 16 08:40:49 PDT 2009  NO_QUERY   \n",
              "1599999       4  2193602129  Tue Jun 16 08:40:50 PDT 2009  NO_QUERY   \n",
              "\n",
              "                 Usuario                                              Texto  \n",
              "1599995  AmandaMarie1028  Just woke up. Having no school is the best fee...  \n",
              "1599996      TheWDBoards  TheWDB.com - Very cool to hear old Walt interv...  \n",
              "1599997           bpbabe  Are you ready for your MoJo Makeover? Ask me f...  \n",
              "1599998     tinydiamondz  Happy 38th Birthday to my boo of alll time!!! ...  \n",
              "1599999   RyanTrevMorris  happy #charitytuesday @theNSPCC @SparksCharity...  "
            ],
            "text/html": [
              "\n",
              "  <div id=\"df-ef2fd5bf-9b5f-4f6a-a501-433d934eb50a\">\n",
              "    <div class=\"colab-df-container\">\n",
              "      <div>\n",
              "<style scoped>\n",
              "    .dataframe tbody tr th:only-of-type {\n",
              "        vertical-align: middle;\n",
              "    }\n",
              "\n",
              "    .dataframe tbody tr th {\n",
              "        vertical-align: top;\n",
              "    }\n",
              "\n",
              "    .dataframe thead th {\n",
              "        text-align: right;\n",
              "    }\n",
              "</style>\n",
              "<table border=\"1\" class=\"dataframe\">\n",
              "  <thead>\n",
              "    <tr style=\"text-align: right;\">\n",
              "      <th></th>\n",
              "      <th>Target</th>\n",
              "      <th>Id</th>\n",
              "      <th>Data</th>\n",
              "      <th>Flag</th>\n",
              "      <th>Usuario</th>\n",
              "      <th>Texto</th>\n",
              "    </tr>\n",
              "  </thead>\n",
              "  <tbody>\n",
              "    <tr>\n",
              "      <th>1599995</th>\n",
              "      <td>4</td>\n",
              "      <td>2193601966</td>\n",
              "      <td>Tue Jun 16 08:40:49 PDT 2009</td>\n",
              "      <td>NO_QUERY</td>\n",
              "      <td>AmandaMarie1028</td>\n",
              "      <td>Just woke up. Having no school is the best fee...</td>\n",
              "    </tr>\n",
              "    <tr>\n",
              "      <th>1599996</th>\n",
              "      <td>4</td>\n",
              "      <td>2193601969</td>\n",
              "      <td>Tue Jun 16 08:40:49 PDT 2009</td>\n",
              "      <td>NO_QUERY</td>\n",
              "      <td>TheWDBoards</td>\n",
              "      <td>TheWDB.com - Very cool to hear old Walt interv...</td>\n",
              "    </tr>\n",
              "    <tr>\n",
              "      <th>1599997</th>\n",
              "      <td>4</td>\n",
              "      <td>2193601991</td>\n",
              "      <td>Tue Jun 16 08:40:49 PDT 2009</td>\n",
              "      <td>NO_QUERY</td>\n",
              "      <td>bpbabe</td>\n",
              "      <td>Are you ready for your MoJo Makeover? Ask me f...</td>\n",
              "    </tr>\n",
              "    <tr>\n",
              "      <th>1599998</th>\n",
              "      <td>4</td>\n",
              "      <td>2193602064</td>\n",
              "      <td>Tue Jun 16 08:40:49 PDT 2009</td>\n",
              "      <td>NO_QUERY</td>\n",
              "      <td>tinydiamondz</td>\n",
              "      <td>Happy 38th Birthday to my boo of alll time!!! ...</td>\n",
              "    </tr>\n",
              "    <tr>\n",
              "      <th>1599999</th>\n",
              "      <td>4</td>\n",
              "      <td>2193602129</td>\n",
              "      <td>Tue Jun 16 08:40:50 PDT 2009</td>\n",
              "      <td>NO_QUERY</td>\n",
              "      <td>RyanTrevMorris</td>\n",
              "      <td>happy #charitytuesday @theNSPCC @SparksCharity...</td>\n",
              "    </tr>\n",
              "  </tbody>\n",
              "</table>\n",
              "</div>\n",
              "      <button class=\"colab-df-convert\" onclick=\"convertToInteractive('df-ef2fd5bf-9b5f-4f6a-a501-433d934eb50a')\"\n",
              "              title=\"Convert this dataframe to an interactive table.\"\n",
              "              style=\"display:none;\">\n",
              "        \n",
              "  <svg xmlns=\"http://www.w3.org/2000/svg\" height=\"24px\"viewBox=\"0 0 24 24\"\n",
              "       width=\"24px\">\n",
              "    <path d=\"M0 0h24v24H0V0z\" fill=\"none\"/>\n",
              "    <path d=\"M18.56 5.44l.94 2.06.94-2.06 2.06-.94-2.06-.94-.94-2.06-.94 2.06-2.06.94zm-11 1L8.5 8.5l.94-2.06 2.06-.94-2.06-.94L8.5 2.5l-.94 2.06-2.06.94zm10 10l.94 2.06.94-2.06 2.06-.94-2.06-.94-.94-2.06-.94 2.06-2.06.94z\"/><path d=\"M17.41 7.96l-1.37-1.37c-.4-.4-.92-.59-1.43-.59-.52 0-1.04.2-1.43.59L10.3 9.45l-7.72 7.72c-.78.78-.78 2.05 0 2.83L4 21.41c.39.39.9.59 1.41.59.51 0 1.02-.2 1.41-.59l7.78-7.78 2.81-2.81c.8-.78.8-2.07 0-2.86zM5.41 20L4 18.59l7.72-7.72 1.47 1.35L5.41 20z\"/>\n",
              "  </svg>\n",
              "      </button>\n",
              "      \n",
              "  <style>\n",
              "    .colab-df-container {\n",
              "      display:flex;\n",
              "      flex-wrap:wrap;\n",
              "      gap: 12px;\n",
              "    }\n",
              "\n",
              "    .colab-df-convert {\n",
              "      background-color: #E8F0FE;\n",
              "      border: none;\n",
              "      border-radius: 50%;\n",
              "      cursor: pointer;\n",
              "      display: none;\n",
              "      fill: #1967D2;\n",
              "      height: 32px;\n",
              "      padding: 0 0 0 0;\n",
              "      width: 32px;\n",
              "    }\n",
              "\n",
              "    .colab-df-convert:hover {\n",
              "      background-color: #E2EBFA;\n",
              "      box-shadow: 0px 1px 2px rgba(60, 64, 67, 0.3), 0px 1px 3px 1px rgba(60, 64, 67, 0.15);\n",
              "      fill: #174EA6;\n",
              "    }\n",
              "\n",
              "    [theme=dark] .colab-df-convert {\n",
              "      background-color: #3B4455;\n",
              "      fill: #D2E3FC;\n",
              "    }\n",
              "\n",
              "    [theme=dark] .colab-df-convert:hover {\n",
              "      background-color: #434B5C;\n",
              "      box-shadow: 0px 1px 3px 1px rgba(0, 0, 0, 0.15);\n",
              "      filter: drop-shadow(0px 1px 2px rgba(0, 0, 0, 0.3));\n",
              "      fill: #FFFFFF;\n",
              "    }\n",
              "  </style>\n",
              "\n",
              "      <script>\n",
              "        const buttonEl =\n",
              "          document.querySelector('#df-ef2fd5bf-9b5f-4f6a-a501-433d934eb50a button.colab-df-convert');\n",
              "        buttonEl.style.display =\n",
              "          google.colab.kernel.accessAllowed ? 'block' : 'none';\n",
              "\n",
              "        async function convertToInteractive(key) {\n",
              "          const element = document.querySelector('#df-ef2fd5bf-9b5f-4f6a-a501-433d934eb50a');\n",
              "          const dataTable =\n",
              "            await google.colab.kernel.invokeFunction('convertToInteractive',\n",
              "                                                     [key], {});\n",
              "          if (!dataTable) return;\n",
              "\n",
              "          const docLinkHtml = 'Like what you see? Visit the ' +\n",
              "            '<a target=\"_blank\" href=https://colab.research.google.com/notebooks/data_table.ipynb>data table notebook</a>'\n",
              "            + ' to learn more about interactive tables.';\n",
              "          element.innerHTML = '';\n",
              "          dataTable['output_type'] = 'display_data';\n",
              "          await google.colab.output.renderOutput(dataTable, element);\n",
              "          const docLink = document.createElement('div');\n",
              "          docLink.innerHTML = docLinkHtml;\n",
              "          element.appendChild(docLink);\n",
              "        }\n",
              "      </script>\n",
              "    </div>\n",
              "  </div>\n",
              "  "
            ]
          },
          "metadata": {},
          "execution_count": 9
        }
      ]
    },
    {
      "cell_type": "code",
      "source": [
        "#se a última coluna da última linha estiver certo, e está , então o pandas leu\n",
        "#o arquivo direito. Foi difícil.\n",
        "print(df_1.tail(1)['Texto'].tolist()[0])"
      ],
      "metadata": {
        "id": "LWGizfB1Bsat",
        "colab": {
          "base_uri": "https://localhost:8080/"
        },
        "outputId": "e212cfcd-8e8b-4aa5-99f4-82aa11564bb2"
      },
      "execution_count": null,
      "outputs": [
        {
          "output_type": "stream",
          "name": "stdout",
          "text": [
            "happy #charitytuesday @theNSPCC @SparksCharity @SpeakingUpH4H \n"
          ]
        }
      ]
    },
    {
      "cell_type": "code",
      "source": [
        "#e uma chegem adiconal com sample\n",
        "df_1.sample(10)"
      ],
      "metadata": {
        "colab": {
          "base_uri": "https://localhost:8080/",
          "height": 363
        },
        "id": "y8WKyPPJX65D",
        "outputId": "56757297-066d-4837-aa6e-6f93758d09d0"
      },
      "execution_count": null,
      "outputs": [
        {
          "output_type": "execute_result",
          "data": {
            "text/plain": [
              "         Target          Id                          Data      Flag  \\\n",
              "177215        0  1965561268  Fri May 29 16:08:15 PDT 2009  NO_QUERY   \n",
              "554149        0  2203786452  Wed Jun 17 00:31:53 PDT 2009  NO_QUERY   \n",
              "1100573       4  1970674188  Sat May 30 04:47:57 PDT 2009  NO_QUERY   \n",
              "1329136       4  2015623346  Wed Jun 03 05:07:58 PDT 2009  NO_QUERY   \n",
              "227564        0  1978086272  Sat May 30 22:24:25 PDT 2009  NO_QUERY   \n",
              "609769        0  2223868260  Thu Jun 18 08:48:37 PDT 2009  NO_QUERY   \n",
              "417941        0  2061652573  Sat Jun 06 21:19:14 PDT 2009  NO_QUERY   \n",
              "345627        0  2015962765  Wed Jun 03 05:53:44 PDT 2009  NO_QUERY   \n",
              "1358471       4  2048223198  Fri Jun 05 14:51:25 PDT 2009  NO_QUERY   \n",
              "1013787       4  1881360208  Fri May 22 04:26:00 PDT 2009  NO_QUERY   \n",
              "\n",
              "               Usuario                                              Texto  \n",
              "177215   untamed__soul  @SASSS09 hahaha.. sadly this one's supposed to...  \n",
              "554149        jbmcdlts  If only she would let me fly on my own we woul...  \n",
              "1100573  truscotsman72  @chicklet7 I've to go and collect her in an ho...  \n",
              "1329136         hezalw           Poto2x di Thailand http://bit.ly/vftex    \n",
              "227564        lela2000  Can't wait till I finally graduate college! Bu...  \n",
              "609769          neopeo  @GurpsK lol. i should have tried it on a blond...  \n",
              "417941       TwiLove66  I've been so exhausted lately that I hardly ev...  \n",
              "345627       cc_online  @mischabcom Thanks so much Sam *hugs* I try no...  \n",
              "1358471     morenamami  @KurtisBlow1   ignore the hatas and keep doing...  \n",
              "1013787          johar  @venkatag Guess you are a Bitsian in Pune.I am...  "
            ],
            "text/html": [
              "\n",
              "  <div id=\"df-a793466b-ebdb-413c-ba46-18a5867e0c5f\">\n",
              "    <div class=\"colab-df-container\">\n",
              "      <div>\n",
              "<style scoped>\n",
              "    .dataframe tbody tr th:only-of-type {\n",
              "        vertical-align: middle;\n",
              "    }\n",
              "\n",
              "    .dataframe tbody tr th {\n",
              "        vertical-align: top;\n",
              "    }\n",
              "\n",
              "    .dataframe thead th {\n",
              "        text-align: right;\n",
              "    }\n",
              "</style>\n",
              "<table border=\"1\" class=\"dataframe\">\n",
              "  <thead>\n",
              "    <tr style=\"text-align: right;\">\n",
              "      <th></th>\n",
              "      <th>Target</th>\n",
              "      <th>Id</th>\n",
              "      <th>Data</th>\n",
              "      <th>Flag</th>\n",
              "      <th>Usuario</th>\n",
              "      <th>Texto</th>\n",
              "    </tr>\n",
              "  </thead>\n",
              "  <tbody>\n",
              "    <tr>\n",
              "      <th>177215</th>\n",
              "      <td>0</td>\n",
              "      <td>1965561268</td>\n",
              "      <td>Fri May 29 16:08:15 PDT 2009</td>\n",
              "      <td>NO_QUERY</td>\n",
              "      <td>untamed__soul</td>\n",
              "      <td>@SASSS09 hahaha.. sadly this one's supposed to...</td>\n",
              "    </tr>\n",
              "    <tr>\n",
              "      <th>554149</th>\n",
              "      <td>0</td>\n",
              "      <td>2203786452</td>\n",
              "      <td>Wed Jun 17 00:31:53 PDT 2009</td>\n",
              "      <td>NO_QUERY</td>\n",
              "      <td>jbmcdlts</td>\n",
              "      <td>If only she would let me fly on my own we woul...</td>\n",
              "    </tr>\n",
              "    <tr>\n",
              "      <th>1100573</th>\n",
              "      <td>4</td>\n",
              "      <td>1970674188</td>\n",
              "      <td>Sat May 30 04:47:57 PDT 2009</td>\n",
              "      <td>NO_QUERY</td>\n",
              "      <td>truscotsman72</td>\n",
              "      <td>@chicklet7 I've to go and collect her in an ho...</td>\n",
              "    </tr>\n",
              "    <tr>\n",
              "      <th>1329136</th>\n",
              "      <td>4</td>\n",
              "      <td>2015623346</td>\n",
              "      <td>Wed Jun 03 05:07:58 PDT 2009</td>\n",
              "      <td>NO_QUERY</td>\n",
              "      <td>hezalw</td>\n",
              "      <td>Poto2x di Thailand http://bit.ly/vftex</td>\n",
              "    </tr>\n",
              "    <tr>\n",
              "      <th>227564</th>\n",
              "      <td>0</td>\n",
              "      <td>1978086272</td>\n",
              "      <td>Sat May 30 22:24:25 PDT 2009</td>\n",
              "      <td>NO_QUERY</td>\n",
              "      <td>lela2000</td>\n",
              "      <td>Can't wait till I finally graduate college! Bu...</td>\n",
              "    </tr>\n",
              "    <tr>\n",
              "      <th>609769</th>\n",
              "      <td>0</td>\n",
              "      <td>2223868260</td>\n",
              "      <td>Thu Jun 18 08:48:37 PDT 2009</td>\n",
              "      <td>NO_QUERY</td>\n",
              "      <td>neopeo</td>\n",
              "      <td>@GurpsK lol. i should have tried it on a blond...</td>\n",
              "    </tr>\n",
              "    <tr>\n",
              "      <th>417941</th>\n",
              "      <td>0</td>\n",
              "      <td>2061652573</td>\n",
              "      <td>Sat Jun 06 21:19:14 PDT 2009</td>\n",
              "      <td>NO_QUERY</td>\n",
              "      <td>TwiLove66</td>\n",
              "      <td>I've been so exhausted lately that I hardly ev...</td>\n",
              "    </tr>\n",
              "    <tr>\n",
              "      <th>345627</th>\n",
              "      <td>0</td>\n",
              "      <td>2015962765</td>\n",
              "      <td>Wed Jun 03 05:53:44 PDT 2009</td>\n",
              "      <td>NO_QUERY</td>\n",
              "      <td>cc_online</td>\n",
              "      <td>@mischabcom Thanks so much Sam *hugs* I try no...</td>\n",
              "    </tr>\n",
              "    <tr>\n",
              "      <th>1358471</th>\n",
              "      <td>4</td>\n",
              "      <td>2048223198</td>\n",
              "      <td>Fri Jun 05 14:51:25 PDT 2009</td>\n",
              "      <td>NO_QUERY</td>\n",
              "      <td>morenamami</td>\n",
              "      <td>@KurtisBlow1   ignore the hatas and keep doing...</td>\n",
              "    </tr>\n",
              "    <tr>\n",
              "      <th>1013787</th>\n",
              "      <td>4</td>\n",
              "      <td>1881360208</td>\n",
              "      <td>Fri May 22 04:26:00 PDT 2009</td>\n",
              "      <td>NO_QUERY</td>\n",
              "      <td>johar</td>\n",
              "      <td>@venkatag Guess you are a Bitsian in Pune.I am...</td>\n",
              "    </tr>\n",
              "  </tbody>\n",
              "</table>\n",
              "</div>\n",
              "      <button class=\"colab-df-convert\" onclick=\"convertToInteractive('df-a793466b-ebdb-413c-ba46-18a5867e0c5f')\"\n",
              "              title=\"Convert this dataframe to an interactive table.\"\n",
              "              style=\"display:none;\">\n",
              "        \n",
              "  <svg xmlns=\"http://www.w3.org/2000/svg\" height=\"24px\"viewBox=\"0 0 24 24\"\n",
              "       width=\"24px\">\n",
              "    <path d=\"M0 0h24v24H0V0z\" fill=\"none\"/>\n",
              "    <path d=\"M18.56 5.44l.94 2.06.94-2.06 2.06-.94-2.06-.94-.94-2.06-.94 2.06-2.06.94zm-11 1L8.5 8.5l.94-2.06 2.06-.94-2.06-.94L8.5 2.5l-.94 2.06-2.06.94zm10 10l.94 2.06.94-2.06 2.06-.94-2.06-.94-.94-2.06-.94 2.06-2.06.94z\"/><path d=\"M17.41 7.96l-1.37-1.37c-.4-.4-.92-.59-1.43-.59-.52 0-1.04.2-1.43.59L10.3 9.45l-7.72 7.72c-.78.78-.78 2.05 0 2.83L4 21.41c.39.39.9.59 1.41.59.51 0 1.02-.2 1.41-.59l7.78-7.78 2.81-2.81c.8-.78.8-2.07 0-2.86zM5.41 20L4 18.59l7.72-7.72 1.47 1.35L5.41 20z\"/>\n",
              "  </svg>\n",
              "      </button>\n",
              "      \n",
              "  <style>\n",
              "    .colab-df-container {\n",
              "      display:flex;\n",
              "      flex-wrap:wrap;\n",
              "      gap: 12px;\n",
              "    }\n",
              "\n",
              "    .colab-df-convert {\n",
              "      background-color: #E8F0FE;\n",
              "      border: none;\n",
              "      border-radius: 50%;\n",
              "      cursor: pointer;\n",
              "      display: none;\n",
              "      fill: #1967D2;\n",
              "      height: 32px;\n",
              "      padding: 0 0 0 0;\n",
              "      width: 32px;\n",
              "    }\n",
              "\n",
              "    .colab-df-convert:hover {\n",
              "      background-color: #E2EBFA;\n",
              "      box-shadow: 0px 1px 2px rgba(60, 64, 67, 0.3), 0px 1px 3px 1px rgba(60, 64, 67, 0.15);\n",
              "      fill: #174EA6;\n",
              "    }\n",
              "\n",
              "    [theme=dark] .colab-df-convert {\n",
              "      background-color: #3B4455;\n",
              "      fill: #D2E3FC;\n",
              "    }\n",
              "\n",
              "    [theme=dark] .colab-df-convert:hover {\n",
              "      background-color: #434B5C;\n",
              "      box-shadow: 0px 1px 3px 1px rgba(0, 0, 0, 0.15);\n",
              "      filter: drop-shadow(0px 1px 2px rgba(0, 0, 0, 0.3));\n",
              "      fill: #FFFFFF;\n",
              "    }\n",
              "  </style>\n",
              "\n",
              "      <script>\n",
              "        const buttonEl =\n",
              "          document.querySelector('#df-a793466b-ebdb-413c-ba46-18a5867e0c5f button.colab-df-convert');\n",
              "        buttonEl.style.display =\n",
              "          google.colab.kernel.accessAllowed ? 'block' : 'none';\n",
              "\n",
              "        async function convertToInteractive(key) {\n",
              "          const element = document.querySelector('#df-a793466b-ebdb-413c-ba46-18a5867e0c5f');\n",
              "          const dataTable =\n",
              "            await google.colab.kernel.invokeFunction('convertToInteractive',\n",
              "                                                     [key], {});\n",
              "          if (!dataTable) return;\n",
              "\n",
              "          const docLinkHtml = 'Like what you see? Visit the ' +\n",
              "            '<a target=\"_blank\" href=https://colab.research.google.com/notebooks/data_table.ipynb>data table notebook</a>'\n",
              "            + ' to learn more about interactive tables.';\n",
              "          element.innerHTML = '';\n",
              "          dataTable['output_type'] = 'display_data';\n",
              "          await google.colab.output.renderOutput(dataTable, element);\n",
              "          const docLink = document.createElement('div');\n",
              "          docLink.innerHTML = docLinkHtml;\n",
              "          element.appendChild(docLink);\n",
              "        }\n",
              "      </script>\n",
              "    </div>\n",
              "  </div>\n",
              "  "
            ]
          },
          "metadata": {},
          "execution_count": 11
        }
      ]
    },
    {
      "cell_type": "markdown",
      "source": [
        "#Criar base treino e teste"
      ],
      "metadata": {
        "id": "0Lw-iKIvada8"
      }
    },
    {
      "cell_type": "code",
      "source": [
        "df_1.info()"
      ],
      "metadata": {
        "colab": {
          "base_uri": "https://localhost:8080/"
        },
        "id": "qVpeuYHYZj58",
        "outputId": "ada394e9-06c1-44ba-d302-793ff1309173"
      },
      "execution_count": null,
      "outputs": [
        {
          "output_type": "stream",
          "name": "stdout",
          "text": [
            "<class 'pandas.core.frame.DataFrame'>\n",
            "RangeIndex: 1600000 entries, 0 to 1599999\n",
            "Data columns (total 6 columns):\n",
            " #   Column   Non-Null Count    Dtype \n",
            "---  ------   --------------    ----- \n",
            " 0   Target   1600000 non-null  int64 \n",
            " 1   Id       1600000 non-null  int64 \n",
            " 2   Data     1600000 non-null  object\n",
            " 3   Flag     1600000 non-null  object\n",
            " 4   Usuario  1600000 non-null  object\n",
            " 5   Texto    1600000 non-null  object\n",
            "dtypes: int64(2), object(4)\n",
            "memory usage: 73.2+ MB\n"
          ]
        }
      ]
    },
    {
      "cell_type": "markdown",
      "source": [
        "##Descarta colunas desnecessárias"
      ],
      "metadata": {
        "id": "V4spa6CHapur"
      }
    },
    {
      "cell_type": "code",
      "source": [
        "df_2=df_1[['Target', 'Id', 'Texto']]"
      ],
      "metadata": {
        "id": "UK-JfJLhaJrL"
      },
      "execution_count": null,
      "outputs": []
    },
    {
      "cell_type": "code",
      "source": [
        "df_2.sample(5)"
      ],
      "metadata": {
        "colab": {
          "base_uri": "https://localhost:8080/",
          "height": 206
        },
        "id": "C2okVsR2a8Iz",
        "outputId": "d23b4183-f3f8-4107-b49d-159b32271015"
      },
      "execution_count": null,
      "outputs": [
        {
          "output_type": "execute_result",
          "data": {
            "text/plain": [
              "         Target          Id                                              Texto\n",
              "659578        0  2242206223                      @TheExtravagate i wanna read \n",
              "1180149       4  1981869461           Nathan's hella making me eggs and bacon \n",
              "1095652       4  1970246745  saturday alone at home *sigh* nothing to do ex...\n",
              "374602        0  2051272453  swelling up from a play fight punch in the fac...\n",
              "1330925       4  2015902918  @CrispCoco@Lokie28@Soultry@Libertyacc@Divinera..."
            ],
            "text/html": [
              "\n",
              "  <div id=\"df-5a0bf95c-8f7b-44af-9922-f027b3d982e6\">\n",
              "    <div class=\"colab-df-container\">\n",
              "      <div>\n",
              "<style scoped>\n",
              "    .dataframe tbody tr th:only-of-type {\n",
              "        vertical-align: middle;\n",
              "    }\n",
              "\n",
              "    .dataframe tbody tr th {\n",
              "        vertical-align: top;\n",
              "    }\n",
              "\n",
              "    .dataframe thead th {\n",
              "        text-align: right;\n",
              "    }\n",
              "</style>\n",
              "<table border=\"1\" class=\"dataframe\">\n",
              "  <thead>\n",
              "    <tr style=\"text-align: right;\">\n",
              "      <th></th>\n",
              "      <th>Target</th>\n",
              "      <th>Id</th>\n",
              "      <th>Texto</th>\n",
              "    </tr>\n",
              "  </thead>\n",
              "  <tbody>\n",
              "    <tr>\n",
              "      <th>659578</th>\n",
              "      <td>0</td>\n",
              "      <td>2242206223</td>\n",
              "      <td>@TheExtravagate i wanna read</td>\n",
              "    </tr>\n",
              "    <tr>\n",
              "      <th>1180149</th>\n",
              "      <td>4</td>\n",
              "      <td>1981869461</td>\n",
              "      <td>Nathan's hella making me eggs and bacon</td>\n",
              "    </tr>\n",
              "    <tr>\n",
              "      <th>1095652</th>\n",
              "      <td>4</td>\n",
              "      <td>1970246745</td>\n",
              "      <td>saturday alone at home *sigh* nothing to do ex...</td>\n",
              "    </tr>\n",
              "    <tr>\n",
              "      <th>374602</th>\n",
              "      <td>0</td>\n",
              "      <td>2051272453</td>\n",
              "      <td>swelling up from a play fight punch in the fac...</td>\n",
              "    </tr>\n",
              "    <tr>\n",
              "      <th>1330925</th>\n",
              "      <td>4</td>\n",
              "      <td>2015902918</td>\n",
              "      <td>@CrispCoco@Lokie28@Soultry@Libertyacc@Divinera...</td>\n",
              "    </tr>\n",
              "  </tbody>\n",
              "</table>\n",
              "</div>\n",
              "      <button class=\"colab-df-convert\" onclick=\"convertToInteractive('df-5a0bf95c-8f7b-44af-9922-f027b3d982e6')\"\n",
              "              title=\"Convert this dataframe to an interactive table.\"\n",
              "              style=\"display:none;\">\n",
              "        \n",
              "  <svg xmlns=\"http://www.w3.org/2000/svg\" height=\"24px\"viewBox=\"0 0 24 24\"\n",
              "       width=\"24px\">\n",
              "    <path d=\"M0 0h24v24H0V0z\" fill=\"none\"/>\n",
              "    <path d=\"M18.56 5.44l.94 2.06.94-2.06 2.06-.94-2.06-.94-.94-2.06-.94 2.06-2.06.94zm-11 1L8.5 8.5l.94-2.06 2.06-.94-2.06-.94L8.5 2.5l-.94 2.06-2.06.94zm10 10l.94 2.06.94-2.06 2.06-.94-2.06-.94-.94-2.06-.94 2.06-2.06.94z\"/><path d=\"M17.41 7.96l-1.37-1.37c-.4-.4-.92-.59-1.43-.59-.52 0-1.04.2-1.43.59L10.3 9.45l-7.72 7.72c-.78.78-.78 2.05 0 2.83L4 21.41c.39.39.9.59 1.41.59.51 0 1.02-.2 1.41-.59l7.78-7.78 2.81-2.81c.8-.78.8-2.07 0-2.86zM5.41 20L4 18.59l7.72-7.72 1.47 1.35L5.41 20z\"/>\n",
              "  </svg>\n",
              "      </button>\n",
              "      \n",
              "  <style>\n",
              "    .colab-df-container {\n",
              "      display:flex;\n",
              "      flex-wrap:wrap;\n",
              "      gap: 12px;\n",
              "    }\n",
              "\n",
              "    .colab-df-convert {\n",
              "      background-color: #E8F0FE;\n",
              "      border: none;\n",
              "      border-radius: 50%;\n",
              "      cursor: pointer;\n",
              "      display: none;\n",
              "      fill: #1967D2;\n",
              "      height: 32px;\n",
              "      padding: 0 0 0 0;\n",
              "      width: 32px;\n",
              "    }\n",
              "\n",
              "    .colab-df-convert:hover {\n",
              "      background-color: #E2EBFA;\n",
              "      box-shadow: 0px 1px 2px rgba(60, 64, 67, 0.3), 0px 1px 3px 1px rgba(60, 64, 67, 0.15);\n",
              "      fill: #174EA6;\n",
              "    }\n",
              "\n",
              "    [theme=dark] .colab-df-convert {\n",
              "      background-color: #3B4455;\n",
              "      fill: #D2E3FC;\n",
              "    }\n",
              "\n",
              "    [theme=dark] .colab-df-convert:hover {\n",
              "      background-color: #434B5C;\n",
              "      box-shadow: 0px 1px 3px 1px rgba(0, 0, 0, 0.15);\n",
              "      filter: drop-shadow(0px 1px 2px rgba(0, 0, 0, 0.3));\n",
              "      fill: #FFFFFF;\n",
              "    }\n",
              "  </style>\n",
              "\n",
              "      <script>\n",
              "        const buttonEl =\n",
              "          document.querySelector('#df-5a0bf95c-8f7b-44af-9922-f027b3d982e6 button.colab-df-convert');\n",
              "        buttonEl.style.display =\n",
              "          google.colab.kernel.accessAllowed ? 'block' : 'none';\n",
              "\n",
              "        async function convertToInteractive(key) {\n",
              "          const element = document.querySelector('#df-5a0bf95c-8f7b-44af-9922-f027b3d982e6');\n",
              "          const dataTable =\n",
              "            await google.colab.kernel.invokeFunction('convertToInteractive',\n",
              "                                                     [key], {});\n",
              "          if (!dataTable) return;\n",
              "\n",
              "          const docLinkHtml = 'Like what you see? Visit the ' +\n",
              "            '<a target=\"_blank\" href=https://colab.research.google.com/notebooks/data_table.ipynb>data table notebook</a>'\n",
              "            + ' to learn more about interactive tables.';\n",
              "          element.innerHTML = '';\n",
              "          dataTable['output_type'] = 'display_data';\n",
              "          await google.colab.output.renderOutput(dataTable, element);\n",
              "          const docLink = document.createElement('div');\n",
              "          docLink.innerHTML = docLinkHtml;\n",
              "          element.appendChild(docLink);\n",
              "        }\n",
              "      </script>\n",
              "    </div>\n",
              "  </div>\n",
              "  "
            ]
          },
          "metadata": {},
          "execution_count": 14
        }
      ]
    },
    {
      "cell_type": "code",
      "source": [
        "#Não precisamos mais, libera a referência para garbage collection\n",
        "del df_1"
      ],
      "metadata": {
        "id": "eCm11c5YbRXz"
      },
      "execution_count": null,
      "outputs": []
    },
    {
      "cell_type": "markdown",
      "source": [
        "##Ajusta target"
      ],
      "metadata": {
        "id": "sO8k855ScP7i"
      }
    },
    {
      "cell_type": "markdown",
      "source": [
        "**Original:**\n",
        "\n",
        "      0->Negativo\n",
        "\n",
        "      2->Neutro\n",
        "\n",
        "      4->Positivo\n",
        "\n",
        "**Ajustado:**\n",
        "\n",
        "      Negativo -> 0\n",
        "    \n",
        "      Neutro-> serão descartados se existerem\n",
        "\n",
        "      Positivo -> 1\n"
      ],
      "metadata": {
        "id": "pfmy52R-cxcV"
      }
    },
    {
      "cell_type": "code",
      "source": [
        "#só tem 0 e 4\n",
        "df_2['Target'].unique()"
      ],
      "metadata": {
        "colab": {
          "base_uri": "https://localhost:8080/"
        },
        "id": "5NML0E4VbnR7",
        "outputId": "bdaffdf2-65dc-40de-c438-f64d03952e15"
      },
      "execution_count": null,
      "outputs": [
        {
          "output_type": "execute_result",
          "data": {
            "text/plain": [
              "array([0, 4])"
            ]
          },
          "metadata": {},
          "execution_count": 16
        }
      ]
    },
    {
      "cell_type": "code",
      "source": [
        "#mas o seguro morreu de velho, exclui linhas com target 2\n",
        "df_3=df_2.drop(df_2[df_2['Target'] ==2].index)\n",
        "del df_2"
      ],
      "metadata": {
        "id": "LW7VIpwJbv_6"
      },
      "execution_count": null,
      "outputs": []
    },
    {
      "cell_type": "code",
      "source": [
        "df_3['Target']=df_3['Target'].apply(lambda x : 1 if x>0 else 0)"
      ],
      "metadata": {
        "id": "zbI-owGDfCJ1"
      },
      "execution_count": null,
      "outputs": []
    },
    {
      "cell_type": "code",
      "source": [
        "df_3['Target'].unique()"
      ],
      "metadata": {
        "colab": {
          "base_uri": "https://localhost:8080/"
        },
        "id": "1raghFm5fFxr",
        "outputId": "7def67e5-a5f1-44e1-c630-7bad6e7153e2"
      },
      "execution_count": null,
      "outputs": [
        {
          "output_type": "execute_result",
          "data": {
            "text/plain": [
              "array([0, 1])"
            ]
          },
          "metadata": {},
          "execution_count": 19
        }
      ]
    },
    {
      "cell_type": "code",
      "source": [
        "#depois de tantas transformaçoes, reset os indices do pandas\n",
        "#para garantir\n",
        "df_3.reset_index(inplace=True)"
      ],
      "metadata": {
        "id": "Ubl3WFIof5PU"
      },
      "execution_count": null,
      "outputs": []
    },
    {
      "cell_type": "code",
      "source": [
        "df_3.head()"
      ],
      "metadata": {
        "colab": {
          "base_uri": "https://localhost:8080/",
          "height": 206
        },
        "id": "_wEsEviGhRnc",
        "outputId": "4cb4a4e5-869e-4354-9111-4a51b8c76b34"
      },
      "execution_count": null,
      "outputs": [
        {
          "output_type": "execute_result",
          "data": {
            "text/plain": [
              "   index  Target          Id  \\\n",
              "0      0       0  1467810369   \n",
              "1      1       0  1467810672   \n",
              "2      2       0  1467810917   \n",
              "3      3       0  1467811184   \n",
              "4      4       0  1467811193   \n",
              "\n",
              "                                               Texto  \n",
              "0  @switchfoot http://twitpic.com/2y1zl - Awww, t...  \n",
              "1  is upset that he can't update his Facebook by ...  \n",
              "2  @Kenichan I dived many times for the ball. Man...  \n",
              "3    my whole body feels itchy and like its on fire   \n",
              "4  @nationwideclass no, it's not behaving at all....  "
            ],
            "text/html": [
              "\n",
              "  <div id=\"df-de9cb583-4b7f-4614-bfcf-9a143e4bf0ae\">\n",
              "    <div class=\"colab-df-container\">\n",
              "      <div>\n",
              "<style scoped>\n",
              "    .dataframe tbody tr th:only-of-type {\n",
              "        vertical-align: middle;\n",
              "    }\n",
              "\n",
              "    .dataframe tbody tr th {\n",
              "        vertical-align: top;\n",
              "    }\n",
              "\n",
              "    .dataframe thead th {\n",
              "        text-align: right;\n",
              "    }\n",
              "</style>\n",
              "<table border=\"1\" class=\"dataframe\">\n",
              "  <thead>\n",
              "    <tr style=\"text-align: right;\">\n",
              "      <th></th>\n",
              "      <th>index</th>\n",
              "      <th>Target</th>\n",
              "      <th>Id</th>\n",
              "      <th>Texto</th>\n",
              "    </tr>\n",
              "  </thead>\n",
              "  <tbody>\n",
              "    <tr>\n",
              "      <th>0</th>\n",
              "      <td>0</td>\n",
              "      <td>0</td>\n",
              "      <td>1467810369</td>\n",
              "      <td>@switchfoot http://twitpic.com/2y1zl - Awww, t...</td>\n",
              "    </tr>\n",
              "    <tr>\n",
              "      <th>1</th>\n",
              "      <td>1</td>\n",
              "      <td>0</td>\n",
              "      <td>1467810672</td>\n",
              "      <td>is upset that he can't update his Facebook by ...</td>\n",
              "    </tr>\n",
              "    <tr>\n",
              "      <th>2</th>\n",
              "      <td>2</td>\n",
              "      <td>0</td>\n",
              "      <td>1467810917</td>\n",
              "      <td>@Kenichan I dived many times for the ball. Man...</td>\n",
              "    </tr>\n",
              "    <tr>\n",
              "      <th>3</th>\n",
              "      <td>3</td>\n",
              "      <td>0</td>\n",
              "      <td>1467811184</td>\n",
              "      <td>my whole body feels itchy and like its on fire</td>\n",
              "    </tr>\n",
              "    <tr>\n",
              "      <th>4</th>\n",
              "      <td>4</td>\n",
              "      <td>0</td>\n",
              "      <td>1467811193</td>\n",
              "      <td>@nationwideclass no, it's not behaving at all....</td>\n",
              "    </tr>\n",
              "  </tbody>\n",
              "</table>\n",
              "</div>\n",
              "      <button class=\"colab-df-convert\" onclick=\"convertToInteractive('df-de9cb583-4b7f-4614-bfcf-9a143e4bf0ae')\"\n",
              "              title=\"Convert this dataframe to an interactive table.\"\n",
              "              style=\"display:none;\">\n",
              "        \n",
              "  <svg xmlns=\"http://www.w3.org/2000/svg\" height=\"24px\"viewBox=\"0 0 24 24\"\n",
              "       width=\"24px\">\n",
              "    <path d=\"M0 0h24v24H0V0z\" fill=\"none\"/>\n",
              "    <path d=\"M18.56 5.44l.94 2.06.94-2.06 2.06-.94-2.06-.94-.94-2.06-.94 2.06-2.06.94zm-11 1L8.5 8.5l.94-2.06 2.06-.94-2.06-.94L8.5 2.5l-.94 2.06-2.06.94zm10 10l.94 2.06.94-2.06 2.06-.94-2.06-.94-.94-2.06-.94 2.06-2.06.94z\"/><path d=\"M17.41 7.96l-1.37-1.37c-.4-.4-.92-.59-1.43-.59-.52 0-1.04.2-1.43.59L10.3 9.45l-7.72 7.72c-.78.78-.78 2.05 0 2.83L4 21.41c.39.39.9.59 1.41.59.51 0 1.02-.2 1.41-.59l7.78-7.78 2.81-2.81c.8-.78.8-2.07 0-2.86zM5.41 20L4 18.59l7.72-7.72 1.47 1.35L5.41 20z\"/>\n",
              "  </svg>\n",
              "      </button>\n",
              "      \n",
              "  <style>\n",
              "    .colab-df-container {\n",
              "      display:flex;\n",
              "      flex-wrap:wrap;\n",
              "      gap: 12px;\n",
              "    }\n",
              "\n",
              "    .colab-df-convert {\n",
              "      background-color: #E8F0FE;\n",
              "      border: none;\n",
              "      border-radius: 50%;\n",
              "      cursor: pointer;\n",
              "      display: none;\n",
              "      fill: #1967D2;\n",
              "      height: 32px;\n",
              "      padding: 0 0 0 0;\n",
              "      width: 32px;\n",
              "    }\n",
              "\n",
              "    .colab-df-convert:hover {\n",
              "      background-color: #E2EBFA;\n",
              "      box-shadow: 0px 1px 2px rgba(60, 64, 67, 0.3), 0px 1px 3px 1px rgba(60, 64, 67, 0.15);\n",
              "      fill: #174EA6;\n",
              "    }\n",
              "\n",
              "    [theme=dark] .colab-df-convert {\n",
              "      background-color: #3B4455;\n",
              "      fill: #D2E3FC;\n",
              "    }\n",
              "\n",
              "    [theme=dark] .colab-df-convert:hover {\n",
              "      background-color: #434B5C;\n",
              "      box-shadow: 0px 1px 3px 1px rgba(0, 0, 0, 0.15);\n",
              "      filter: drop-shadow(0px 1px 2px rgba(0, 0, 0, 0.3));\n",
              "      fill: #FFFFFF;\n",
              "    }\n",
              "  </style>\n",
              "\n",
              "      <script>\n",
              "        const buttonEl =\n",
              "          document.querySelector('#df-de9cb583-4b7f-4614-bfcf-9a143e4bf0ae button.colab-df-convert');\n",
              "        buttonEl.style.display =\n",
              "          google.colab.kernel.accessAllowed ? 'block' : 'none';\n",
              "\n",
              "        async function convertToInteractive(key) {\n",
              "          const element = document.querySelector('#df-de9cb583-4b7f-4614-bfcf-9a143e4bf0ae');\n",
              "          const dataTable =\n",
              "            await google.colab.kernel.invokeFunction('convertToInteractive',\n",
              "                                                     [key], {});\n",
              "          if (!dataTable) return;\n",
              "\n",
              "          const docLinkHtml = 'Like what you see? Visit the ' +\n",
              "            '<a target=\"_blank\" href=https://colab.research.google.com/notebooks/data_table.ipynb>data table notebook</a>'\n",
              "            + ' to learn more about interactive tables.';\n",
              "          element.innerHTML = '';\n",
              "          dataTable['output_type'] = 'display_data';\n",
              "          await google.colab.output.renderOutput(dataTable, element);\n",
              "          const docLink = document.createElement('div');\n",
              "          docLink.innerHTML = docLinkHtml;\n",
              "          element.appendChild(docLink);\n",
              "        }\n",
              "      </script>\n",
              "    </div>\n",
              "  </div>\n",
              "  "
            ]
          },
          "metadata": {},
          "execution_count": 21
        }
      ]
    },
    {
      "cell_type": "markdown",
      "source": [
        "##Sepera treino e teste"
      ],
      "metadata": {
        "id": "Ebr8LFn3l_s9"
      }
    },
    {
      "cell_type": "code",
      "source": [
        "from sklearn.model_selection import train_test_split"
      ],
      "metadata": {
        "id": "3UPue9J_kz1F"
      },
      "execution_count": null,
      "outputs": []
    },
    {
      "cell_type": "code",
      "source": [
        "df_target=df_3[['Target']]\n",
        "df_dados=df_3[['Id', 'Texto']]\n",
        "\n",
        "x_treino, x_teste, y_treino, y_teste = train_test_split(df_dados,\n",
        "                                                        df_target, \n",
        "                                                        test_size=0.3,\n",
        "                                                        \n",
        "                                                        stratify=df_target)"
      ],
      "metadata": {
        "id": "8xn7KtQ6mI7-"
      },
      "execution_count": null,
      "outputs": []
    },
    {
      "cell_type": "code",
      "source": [
        "x_treino.head(5)"
      ],
      "metadata": {
        "colab": {
          "base_uri": "https://localhost:8080/",
          "height": 206
        },
        "id": "vZoj-hPimuMc",
        "outputId": "8716b537-f58d-4db7-fa5c-286946e7d5b9"
      },
      "execution_count": null,
      "outputs": [
        {
          "output_type": "execute_result",
          "data": {
            "text/plain": [
              "                 Id                                              Texto\n",
              "398234   2056834141  i needed someone to rely on, you worked out fo...\n",
              "1447581  2062636613  thinking about the most beautiful girl in the ...\n",
              "145556   1882246207  @JaySkillz i'm computerless,so i try listenin ...\n",
              "40880    1573895999              my boss is still mad from me i guess \n",
              "1593006  2191848182  @jameseh, not *a* country, *the* country, as i..."
            ],
            "text/html": [
              "\n",
              "  <div id=\"df-ee96b953-bcce-454f-817d-07a292f87e02\">\n",
              "    <div class=\"colab-df-container\">\n",
              "      <div>\n",
              "<style scoped>\n",
              "    .dataframe tbody tr th:only-of-type {\n",
              "        vertical-align: middle;\n",
              "    }\n",
              "\n",
              "    .dataframe tbody tr th {\n",
              "        vertical-align: top;\n",
              "    }\n",
              "\n",
              "    .dataframe thead th {\n",
              "        text-align: right;\n",
              "    }\n",
              "</style>\n",
              "<table border=\"1\" class=\"dataframe\">\n",
              "  <thead>\n",
              "    <tr style=\"text-align: right;\">\n",
              "      <th></th>\n",
              "      <th>Id</th>\n",
              "      <th>Texto</th>\n",
              "    </tr>\n",
              "  </thead>\n",
              "  <tbody>\n",
              "    <tr>\n",
              "      <th>398234</th>\n",
              "      <td>2056834141</td>\n",
              "      <td>i needed someone to rely on, you worked out fo...</td>\n",
              "    </tr>\n",
              "    <tr>\n",
              "      <th>1447581</th>\n",
              "      <td>2062636613</td>\n",
              "      <td>thinking about the most beautiful girl in the ...</td>\n",
              "    </tr>\n",
              "    <tr>\n",
              "      <th>145556</th>\n",
              "      <td>1882246207</td>\n",
              "      <td>@JaySkillz i'm computerless,so i try listenin ...</td>\n",
              "    </tr>\n",
              "    <tr>\n",
              "      <th>40880</th>\n",
              "      <td>1573895999</td>\n",
              "      <td>my boss is still mad from me i guess</td>\n",
              "    </tr>\n",
              "    <tr>\n",
              "      <th>1593006</th>\n",
              "      <td>2191848182</td>\n",
              "      <td>@jameseh, not *a* country, *the* country, as i...</td>\n",
              "    </tr>\n",
              "  </tbody>\n",
              "</table>\n",
              "</div>\n",
              "      <button class=\"colab-df-convert\" onclick=\"convertToInteractive('df-ee96b953-bcce-454f-817d-07a292f87e02')\"\n",
              "              title=\"Convert this dataframe to an interactive table.\"\n",
              "              style=\"display:none;\">\n",
              "        \n",
              "  <svg xmlns=\"http://www.w3.org/2000/svg\" height=\"24px\"viewBox=\"0 0 24 24\"\n",
              "       width=\"24px\">\n",
              "    <path d=\"M0 0h24v24H0V0z\" fill=\"none\"/>\n",
              "    <path d=\"M18.56 5.44l.94 2.06.94-2.06 2.06-.94-2.06-.94-.94-2.06-.94 2.06-2.06.94zm-11 1L8.5 8.5l.94-2.06 2.06-.94-2.06-.94L8.5 2.5l-.94 2.06-2.06.94zm10 10l.94 2.06.94-2.06 2.06-.94-2.06-.94-.94-2.06-.94 2.06-2.06.94z\"/><path d=\"M17.41 7.96l-1.37-1.37c-.4-.4-.92-.59-1.43-.59-.52 0-1.04.2-1.43.59L10.3 9.45l-7.72 7.72c-.78.78-.78 2.05 0 2.83L4 21.41c.39.39.9.59 1.41.59.51 0 1.02-.2 1.41-.59l7.78-7.78 2.81-2.81c.8-.78.8-2.07 0-2.86zM5.41 20L4 18.59l7.72-7.72 1.47 1.35L5.41 20z\"/>\n",
              "  </svg>\n",
              "      </button>\n",
              "      \n",
              "  <style>\n",
              "    .colab-df-container {\n",
              "      display:flex;\n",
              "      flex-wrap:wrap;\n",
              "      gap: 12px;\n",
              "    }\n",
              "\n",
              "    .colab-df-convert {\n",
              "      background-color: #E8F0FE;\n",
              "      border: none;\n",
              "      border-radius: 50%;\n",
              "      cursor: pointer;\n",
              "      display: none;\n",
              "      fill: #1967D2;\n",
              "      height: 32px;\n",
              "      padding: 0 0 0 0;\n",
              "      width: 32px;\n",
              "    }\n",
              "\n",
              "    .colab-df-convert:hover {\n",
              "      background-color: #E2EBFA;\n",
              "      box-shadow: 0px 1px 2px rgba(60, 64, 67, 0.3), 0px 1px 3px 1px rgba(60, 64, 67, 0.15);\n",
              "      fill: #174EA6;\n",
              "    }\n",
              "\n",
              "    [theme=dark] .colab-df-convert {\n",
              "      background-color: #3B4455;\n",
              "      fill: #D2E3FC;\n",
              "    }\n",
              "\n",
              "    [theme=dark] .colab-df-convert:hover {\n",
              "      background-color: #434B5C;\n",
              "      box-shadow: 0px 1px 3px 1px rgba(0, 0, 0, 0.15);\n",
              "      filter: drop-shadow(0px 1px 2px rgba(0, 0, 0, 0.3));\n",
              "      fill: #FFFFFF;\n",
              "    }\n",
              "  </style>\n",
              "\n",
              "      <script>\n",
              "        const buttonEl =\n",
              "          document.querySelector('#df-ee96b953-bcce-454f-817d-07a292f87e02 button.colab-df-convert');\n",
              "        buttonEl.style.display =\n",
              "          google.colab.kernel.accessAllowed ? 'block' : 'none';\n",
              "\n",
              "        async function convertToInteractive(key) {\n",
              "          const element = document.querySelector('#df-ee96b953-bcce-454f-817d-07a292f87e02');\n",
              "          const dataTable =\n",
              "            await google.colab.kernel.invokeFunction('convertToInteractive',\n",
              "                                                     [key], {});\n",
              "          if (!dataTable) return;\n",
              "\n",
              "          const docLinkHtml = 'Like what you see? Visit the ' +\n",
              "            '<a target=\"_blank\" href=https://colab.research.google.com/notebooks/data_table.ipynb>data table notebook</a>'\n",
              "            + ' to learn more about interactive tables.';\n",
              "          element.innerHTML = '';\n",
              "          dataTable['output_type'] = 'display_data';\n",
              "          await google.colab.output.renderOutput(dataTable, element);\n",
              "          const docLink = document.createElement('div');\n",
              "          docLink.innerHTML = docLinkHtml;\n",
              "          element.appendChild(docLink);\n",
              "        }\n",
              "      </script>\n",
              "    </div>\n",
              "  </div>\n",
              "  "
            ]
          },
          "metadata": {},
          "execution_count": 24
        }
      ]
    },
    {
      "cell_type": "code",
      "source": [
        "y_treino.head(5)"
      ],
      "metadata": {
        "colab": {
          "base_uri": "https://localhost:8080/",
          "height": 206
        },
        "id": "QPjrgfZMm3mj",
        "outputId": "d758cbc6-0bd9-43c5-bef1-c042242591f7"
      },
      "execution_count": null,
      "outputs": [
        {
          "output_type": "execute_result",
          "data": {
            "text/plain": [
              "         Target\n",
              "398234        0\n",
              "1447581       1\n",
              "145556        0\n",
              "40880         0\n",
              "1593006       1"
            ],
            "text/html": [
              "\n",
              "  <div id=\"df-e414a42c-fb16-41f6-a831-425b015f5aa6\">\n",
              "    <div class=\"colab-df-container\">\n",
              "      <div>\n",
              "<style scoped>\n",
              "    .dataframe tbody tr th:only-of-type {\n",
              "        vertical-align: middle;\n",
              "    }\n",
              "\n",
              "    .dataframe tbody tr th {\n",
              "        vertical-align: top;\n",
              "    }\n",
              "\n",
              "    .dataframe thead th {\n",
              "        text-align: right;\n",
              "    }\n",
              "</style>\n",
              "<table border=\"1\" class=\"dataframe\">\n",
              "  <thead>\n",
              "    <tr style=\"text-align: right;\">\n",
              "      <th></th>\n",
              "      <th>Target</th>\n",
              "    </tr>\n",
              "  </thead>\n",
              "  <tbody>\n",
              "    <tr>\n",
              "      <th>398234</th>\n",
              "      <td>0</td>\n",
              "    </tr>\n",
              "    <tr>\n",
              "      <th>1447581</th>\n",
              "      <td>1</td>\n",
              "    </tr>\n",
              "    <tr>\n",
              "      <th>145556</th>\n",
              "      <td>0</td>\n",
              "    </tr>\n",
              "    <tr>\n",
              "      <th>40880</th>\n",
              "      <td>0</td>\n",
              "    </tr>\n",
              "    <tr>\n",
              "      <th>1593006</th>\n",
              "      <td>1</td>\n",
              "    </tr>\n",
              "  </tbody>\n",
              "</table>\n",
              "</div>\n",
              "      <button class=\"colab-df-convert\" onclick=\"convertToInteractive('df-e414a42c-fb16-41f6-a831-425b015f5aa6')\"\n",
              "              title=\"Convert this dataframe to an interactive table.\"\n",
              "              style=\"display:none;\">\n",
              "        \n",
              "  <svg xmlns=\"http://www.w3.org/2000/svg\" height=\"24px\"viewBox=\"0 0 24 24\"\n",
              "       width=\"24px\">\n",
              "    <path d=\"M0 0h24v24H0V0z\" fill=\"none\"/>\n",
              "    <path d=\"M18.56 5.44l.94 2.06.94-2.06 2.06-.94-2.06-.94-.94-2.06-.94 2.06-2.06.94zm-11 1L8.5 8.5l.94-2.06 2.06-.94-2.06-.94L8.5 2.5l-.94 2.06-2.06.94zm10 10l.94 2.06.94-2.06 2.06-.94-2.06-.94-.94-2.06-.94 2.06-2.06.94z\"/><path d=\"M17.41 7.96l-1.37-1.37c-.4-.4-.92-.59-1.43-.59-.52 0-1.04.2-1.43.59L10.3 9.45l-7.72 7.72c-.78.78-.78 2.05 0 2.83L4 21.41c.39.39.9.59 1.41.59.51 0 1.02-.2 1.41-.59l7.78-7.78 2.81-2.81c.8-.78.8-2.07 0-2.86zM5.41 20L4 18.59l7.72-7.72 1.47 1.35L5.41 20z\"/>\n",
              "  </svg>\n",
              "      </button>\n",
              "      \n",
              "  <style>\n",
              "    .colab-df-container {\n",
              "      display:flex;\n",
              "      flex-wrap:wrap;\n",
              "      gap: 12px;\n",
              "    }\n",
              "\n",
              "    .colab-df-convert {\n",
              "      background-color: #E8F0FE;\n",
              "      border: none;\n",
              "      border-radius: 50%;\n",
              "      cursor: pointer;\n",
              "      display: none;\n",
              "      fill: #1967D2;\n",
              "      height: 32px;\n",
              "      padding: 0 0 0 0;\n",
              "      width: 32px;\n",
              "    }\n",
              "\n",
              "    .colab-df-convert:hover {\n",
              "      background-color: #E2EBFA;\n",
              "      box-shadow: 0px 1px 2px rgba(60, 64, 67, 0.3), 0px 1px 3px 1px rgba(60, 64, 67, 0.15);\n",
              "      fill: #174EA6;\n",
              "    }\n",
              "\n",
              "    [theme=dark] .colab-df-convert {\n",
              "      background-color: #3B4455;\n",
              "      fill: #D2E3FC;\n",
              "    }\n",
              "\n",
              "    [theme=dark] .colab-df-convert:hover {\n",
              "      background-color: #434B5C;\n",
              "      box-shadow: 0px 1px 3px 1px rgba(0, 0, 0, 0.15);\n",
              "      filter: drop-shadow(0px 1px 2px rgba(0, 0, 0, 0.3));\n",
              "      fill: #FFFFFF;\n",
              "    }\n",
              "  </style>\n",
              "\n",
              "      <script>\n",
              "        const buttonEl =\n",
              "          document.querySelector('#df-e414a42c-fb16-41f6-a831-425b015f5aa6 button.colab-df-convert');\n",
              "        buttonEl.style.display =\n",
              "          google.colab.kernel.accessAllowed ? 'block' : 'none';\n",
              "\n",
              "        async function convertToInteractive(key) {\n",
              "          const element = document.querySelector('#df-e414a42c-fb16-41f6-a831-425b015f5aa6');\n",
              "          const dataTable =\n",
              "            await google.colab.kernel.invokeFunction('convertToInteractive',\n",
              "                                                     [key], {});\n",
              "          if (!dataTable) return;\n",
              "\n",
              "          const docLinkHtml = 'Like what you see? Visit the ' +\n",
              "            '<a target=\"_blank\" href=https://colab.research.google.com/notebooks/data_table.ipynb>data table notebook</a>'\n",
              "            + ' to learn more about interactive tables.';\n",
              "          element.innerHTML = '';\n",
              "          dataTable['output_type'] = 'display_data';\n",
              "          await google.colab.output.renderOutput(dataTable, element);\n",
              "          const docLink = document.createElement('div');\n",
              "          docLink.innerHTML = docLinkHtml;\n",
              "          element.appendChild(docLink);\n",
              "        }\n",
              "      </script>\n",
              "    </div>\n",
              "  </div>\n",
              "  "
            ]
          },
          "metadata": {},
          "execution_count": 25
        }
      ]
    },
    {
      "cell_type": "code",
      "source": [
        "x_teste.head(5)"
      ],
      "metadata": {
        "colab": {
          "base_uri": "https://localhost:8080/",
          "height": 206
        },
        "id": "f0dCCT2rmz01",
        "outputId": "fd21072a-8ba1-4ccf-8175-2c945dbb3cb8"
      },
      "execution_count": null,
      "outputs": [
        {
          "output_type": "execute_result",
          "data": {
            "text/plain": [
              "                 Id                                              Texto\n",
              "820817   1553835003     @KUOWBernard Lyrja Francis! What a fun tweet. \n",
              "1528962  2177482851  great song(mus &amp; lyr) by Abel Zavala...I f...\n",
              "1397976  2054034942        hello world, welcome to the best day ever! \n",
              "1040513  1956955192  @b50 of course, we trust u wudn't do tht. its ...\n",
              "1484680  2067721474  Ahhh! Its gorgeous in santa monica!! Sunnny wi..."
            ],
            "text/html": [
              "\n",
              "  <div id=\"df-46f4d3f3-01b2-463a-a5a2-dc91cd47955d\">\n",
              "    <div class=\"colab-df-container\">\n",
              "      <div>\n",
              "<style scoped>\n",
              "    .dataframe tbody tr th:only-of-type {\n",
              "        vertical-align: middle;\n",
              "    }\n",
              "\n",
              "    .dataframe tbody tr th {\n",
              "        vertical-align: top;\n",
              "    }\n",
              "\n",
              "    .dataframe thead th {\n",
              "        text-align: right;\n",
              "    }\n",
              "</style>\n",
              "<table border=\"1\" class=\"dataframe\">\n",
              "  <thead>\n",
              "    <tr style=\"text-align: right;\">\n",
              "      <th></th>\n",
              "      <th>Id</th>\n",
              "      <th>Texto</th>\n",
              "    </tr>\n",
              "  </thead>\n",
              "  <tbody>\n",
              "    <tr>\n",
              "      <th>820817</th>\n",
              "      <td>1553835003</td>\n",
              "      <td>@KUOWBernard Lyrja Francis! What a fun tweet.</td>\n",
              "    </tr>\n",
              "    <tr>\n",
              "      <th>1528962</th>\n",
              "      <td>2177482851</td>\n",
              "      <td>great song(mus &amp;amp; lyr) by Abel Zavala...I f...</td>\n",
              "    </tr>\n",
              "    <tr>\n",
              "      <th>1397976</th>\n",
              "      <td>2054034942</td>\n",
              "      <td>hello world, welcome to the best day ever!</td>\n",
              "    </tr>\n",
              "    <tr>\n",
              "      <th>1040513</th>\n",
              "      <td>1956955192</td>\n",
              "      <td>@b50 of course, we trust u wudn't do tht. its ...</td>\n",
              "    </tr>\n",
              "    <tr>\n",
              "      <th>1484680</th>\n",
              "      <td>2067721474</td>\n",
              "      <td>Ahhh! Its gorgeous in santa monica!! Sunnny wi...</td>\n",
              "    </tr>\n",
              "  </tbody>\n",
              "</table>\n",
              "</div>\n",
              "      <button class=\"colab-df-convert\" onclick=\"convertToInteractive('df-46f4d3f3-01b2-463a-a5a2-dc91cd47955d')\"\n",
              "              title=\"Convert this dataframe to an interactive table.\"\n",
              "              style=\"display:none;\">\n",
              "        \n",
              "  <svg xmlns=\"http://www.w3.org/2000/svg\" height=\"24px\"viewBox=\"0 0 24 24\"\n",
              "       width=\"24px\">\n",
              "    <path d=\"M0 0h24v24H0V0z\" fill=\"none\"/>\n",
              "    <path d=\"M18.56 5.44l.94 2.06.94-2.06 2.06-.94-2.06-.94-.94-2.06-.94 2.06-2.06.94zm-11 1L8.5 8.5l.94-2.06 2.06-.94-2.06-.94L8.5 2.5l-.94 2.06-2.06.94zm10 10l.94 2.06.94-2.06 2.06-.94-2.06-.94-.94-2.06-.94 2.06-2.06.94z\"/><path d=\"M17.41 7.96l-1.37-1.37c-.4-.4-.92-.59-1.43-.59-.52 0-1.04.2-1.43.59L10.3 9.45l-7.72 7.72c-.78.78-.78 2.05 0 2.83L4 21.41c.39.39.9.59 1.41.59.51 0 1.02-.2 1.41-.59l7.78-7.78 2.81-2.81c.8-.78.8-2.07 0-2.86zM5.41 20L4 18.59l7.72-7.72 1.47 1.35L5.41 20z\"/>\n",
              "  </svg>\n",
              "      </button>\n",
              "      \n",
              "  <style>\n",
              "    .colab-df-container {\n",
              "      display:flex;\n",
              "      flex-wrap:wrap;\n",
              "      gap: 12px;\n",
              "    }\n",
              "\n",
              "    .colab-df-convert {\n",
              "      background-color: #E8F0FE;\n",
              "      border: none;\n",
              "      border-radius: 50%;\n",
              "      cursor: pointer;\n",
              "      display: none;\n",
              "      fill: #1967D2;\n",
              "      height: 32px;\n",
              "      padding: 0 0 0 0;\n",
              "      width: 32px;\n",
              "    }\n",
              "\n",
              "    .colab-df-convert:hover {\n",
              "      background-color: #E2EBFA;\n",
              "      box-shadow: 0px 1px 2px rgba(60, 64, 67, 0.3), 0px 1px 3px 1px rgba(60, 64, 67, 0.15);\n",
              "      fill: #174EA6;\n",
              "    }\n",
              "\n",
              "    [theme=dark] .colab-df-convert {\n",
              "      background-color: #3B4455;\n",
              "      fill: #D2E3FC;\n",
              "    }\n",
              "\n",
              "    [theme=dark] .colab-df-convert:hover {\n",
              "      background-color: #434B5C;\n",
              "      box-shadow: 0px 1px 3px 1px rgba(0, 0, 0, 0.15);\n",
              "      filter: drop-shadow(0px 1px 2px rgba(0, 0, 0, 0.3));\n",
              "      fill: #FFFFFF;\n",
              "    }\n",
              "  </style>\n",
              "\n",
              "      <script>\n",
              "        const buttonEl =\n",
              "          document.querySelector('#df-46f4d3f3-01b2-463a-a5a2-dc91cd47955d button.colab-df-convert');\n",
              "        buttonEl.style.display =\n",
              "          google.colab.kernel.accessAllowed ? 'block' : 'none';\n",
              "\n",
              "        async function convertToInteractive(key) {\n",
              "          const element = document.querySelector('#df-46f4d3f3-01b2-463a-a5a2-dc91cd47955d');\n",
              "          const dataTable =\n",
              "            await google.colab.kernel.invokeFunction('convertToInteractive',\n",
              "                                                     [key], {});\n",
              "          if (!dataTable) return;\n",
              "\n",
              "          const docLinkHtml = 'Like what you see? Visit the ' +\n",
              "            '<a target=\"_blank\" href=https://colab.research.google.com/notebooks/data_table.ipynb>data table notebook</a>'\n",
              "            + ' to learn more about interactive tables.';\n",
              "          element.innerHTML = '';\n",
              "          dataTable['output_type'] = 'display_data';\n",
              "          await google.colab.output.renderOutput(dataTable, element);\n",
              "          const docLink = document.createElement('div');\n",
              "          docLink.innerHTML = docLinkHtml;\n",
              "          element.appendChild(docLink);\n",
              "        }\n",
              "      </script>\n",
              "    </div>\n",
              "  </div>\n",
              "  "
            ]
          },
          "metadata": {},
          "execution_count": 26
        }
      ]
    },
    {
      "cell_type": "code",
      "source": [
        "y_teste.head(5)"
      ],
      "metadata": {
        "colab": {
          "base_uri": "https://localhost:8080/",
          "height": 206
        },
        "id": "3P8PG7mym68D",
        "outputId": "14ef6fcf-3953-4d64-a240-a8c18560abde"
      },
      "execution_count": null,
      "outputs": [
        {
          "output_type": "execute_result",
          "data": {
            "text/plain": [
              "         Target\n",
              "820817        1\n",
              "1528962       1\n",
              "1397976       1\n",
              "1040513       1\n",
              "1484680       1"
            ],
            "text/html": [
              "\n",
              "  <div id=\"df-30a47ebb-8ba7-4ddf-889d-d1ad0d2a86e9\">\n",
              "    <div class=\"colab-df-container\">\n",
              "      <div>\n",
              "<style scoped>\n",
              "    .dataframe tbody tr th:only-of-type {\n",
              "        vertical-align: middle;\n",
              "    }\n",
              "\n",
              "    .dataframe tbody tr th {\n",
              "        vertical-align: top;\n",
              "    }\n",
              "\n",
              "    .dataframe thead th {\n",
              "        text-align: right;\n",
              "    }\n",
              "</style>\n",
              "<table border=\"1\" class=\"dataframe\">\n",
              "  <thead>\n",
              "    <tr style=\"text-align: right;\">\n",
              "      <th></th>\n",
              "      <th>Target</th>\n",
              "    </tr>\n",
              "  </thead>\n",
              "  <tbody>\n",
              "    <tr>\n",
              "      <th>820817</th>\n",
              "      <td>1</td>\n",
              "    </tr>\n",
              "    <tr>\n",
              "      <th>1528962</th>\n",
              "      <td>1</td>\n",
              "    </tr>\n",
              "    <tr>\n",
              "      <th>1397976</th>\n",
              "      <td>1</td>\n",
              "    </tr>\n",
              "    <tr>\n",
              "      <th>1040513</th>\n",
              "      <td>1</td>\n",
              "    </tr>\n",
              "    <tr>\n",
              "      <th>1484680</th>\n",
              "      <td>1</td>\n",
              "    </tr>\n",
              "  </tbody>\n",
              "</table>\n",
              "</div>\n",
              "      <button class=\"colab-df-convert\" onclick=\"convertToInteractive('df-30a47ebb-8ba7-4ddf-889d-d1ad0d2a86e9')\"\n",
              "              title=\"Convert this dataframe to an interactive table.\"\n",
              "              style=\"display:none;\">\n",
              "        \n",
              "  <svg xmlns=\"http://www.w3.org/2000/svg\" height=\"24px\"viewBox=\"0 0 24 24\"\n",
              "       width=\"24px\">\n",
              "    <path d=\"M0 0h24v24H0V0z\" fill=\"none\"/>\n",
              "    <path d=\"M18.56 5.44l.94 2.06.94-2.06 2.06-.94-2.06-.94-.94-2.06-.94 2.06-2.06.94zm-11 1L8.5 8.5l.94-2.06 2.06-.94-2.06-.94L8.5 2.5l-.94 2.06-2.06.94zm10 10l.94 2.06.94-2.06 2.06-.94-2.06-.94-.94-2.06-.94 2.06-2.06.94z\"/><path d=\"M17.41 7.96l-1.37-1.37c-.4-.4-.92-.59-1.43-.59-.52 0-1.04.2-1.43.59L10.3 9.45l-7.72 7.72c-.78.78-.78 2.05 0 2.83L4 21.41c.39.39.9.59 1.41.59.51 0 1.02-.2 1.41-.59l7.78-7.78 2.81-2.81c.8-.78.8-2.07 0-2.86zM5.41 20L4 18.59l7.72-7.72 1.47 1.35L5.41 20z\"/>\n",
              "  </svg>\n",
              "      </button>\n",
              "      \n",
              "  <style>\n",
              "    .colab-df-container {\n",
              "      display:flex;\n",
              "      flex-wrap:wrap;\n",
              "      gap: 12px;\n",
              "    }\n",
              "\n",
              "    .colab-df-convert {\n",
              "      background-color: #E8F0FE;\n",
              "      border: none;\n",
              "      border-radius: 50%;\n",
              "      cursor: pointer;\n",
              "      display: none;\n",
              "      fill: #1967D2;\n",
              "      height: 32px;\n",
              "      padding: 0 0 0 0;\n",
              "      width: 32px;\n",
              "    }\n",
              "\n",
              "    .colab-df-convert:hover {\n",
              "      background-color: #E2EBFA;\n",
              "      box-shadow: 0px 1px 2px rgba(60, 64, 67, 0.3), 0px 1px 3px 1px rgba(60, 64, 67, 0.15);\n",
              "      fill: #174EA6;\n",
              "    }\n",
              "\n",
              "    [theme=dark] .colab-df-convert {\n",
              "      background-color: #3B4455;\n",
              "      fill: #D2E3FC;\n",
              "    }\n",
              "\n",
              "    [theme=dark] .colab-df-convert:hover {\n",
              "      background-color: #434B5C;\n",
              "      box-shadow: 0px 1px 3px 1px rgba(0, 0, 0, 0.15);\n",
              "      filter: drop-shadow(0px 1px 2px rgba(0, 0, 0, 0.3));\n",
              "      fill: #FFFFFF;\n",
              "    }\n",
              "  </style>\n",
              "\n",
              "      <script>\n",
              "        const buttonEl =\n",
              "          document.querySelector('#df-30a47ebb-8ba7-4ddf-889d-d1ad0d2a86e9 button.colab-df-convert');\n",
              "        buttonEl.style.display =\n",
              "          google.colab.kernel.accessAllowed ? 'block' : 'none';\n",
              "\n",
              "        async function convertToInteractive(key) {\n",
              "          const element = document.querySelector('#df-30a47ebb-8ba7-4ddf-889d-d1ad0d2a86e9');\n",
              "          const dataTable =\n",
              "            await google.colab.kernel.invokeFunction('convertToInteractive',\n",
              "                                                     [key], {});\n",
              "          if (!dataTable) return;\n",
              "\n",
              "          const docLinkHtml = 'Like what you see? Visit the ' +\n",
              "            '<a target=\"_blank\" href=https://colab.research.google.com/notebooks/data_table.ipynb>data table notebook</a>'\n",
              "            + ' to learn more about interactive tables.';\n",
              "          element.innerHTML = '';\n",
              "          dataTable['output_type'] = 'display_data';\n",
              "          await google.colab.output.renderOutput(dataTable, element);\n",
              "          const docLink = document.createElement('div');\n",
              "          docLink.innerHTML = docLinkHtml;\n",
              "          element.appendChild(docLink);\n",
              "        }\n",
              "      </script>\n",
              "    </div>\n",
              "  </div>\n",
              "  "
            ]
          },
          "metadata": {},
          "execution_count": 27
        }
      ]
    },
    {
      "cell_type": "code",
      "source": [
        "#limpa memória\n",
        "del df_3\n",
        "del df_dados\n",
        "del df_target"
      ],
      "metadata": {
        "id": "DMyr28Ca7a3l"
      },
      "execution_count": null,
      "outputs": []
    },
    {
      "cell_type": "markdown",
      "source": [
        "#Processamento de texto"
      ],
      "metadata": {
        "id": "TipnqhIhsHVu"
      }
    },
    {
      "cell_type": "markdown",
      "source": [
        "##Função limpadora de texto"
      ],
      "metadata": {
        "id": "D6TyDLkQ0QUB"
      }
    },
    {
      "cell_type": "code",
      "source": [
        "#pacote limpador de caracter special\n",
        "!pip install unidecode"
      ],
      "metadata": {
        "colab": {
          "base_uri": "https://localhost:8080/"
        },
        "id": "W3h2ei31vuoP",
        "outputId": "f8152502-4536-46e9-a825-1ee4438326fd"
      },
      "execution_count": null,
      "outputs": [
        {
          "output_type": "stream",
          "name": "stdout",
          "text": [
            "Looking in indexes: https://pypi.org/simple, https://us-python.pkg.dev/colab-wheels/public/simple/\n",
            "Requirement already satisfied: unidecode in /usr/local/lib/python3.7/dist-packages (1.3.4)\n"
          ]
        }
      ]
    },
    {
      "cell_type": "code",
      "source": [
        "import unidecode\n",
        "import string\n",
        "import re\n",
        "import nltk\n",
        "from nltk.stem import RSLPStemmer, PorterStemmer"
      ],
      "metadata": {
        "id": "m7ucEpAGt2BP"
      },
      "execution_count": null,
      "outputs": []
    },
    {
      "cell_type": "code",
      "source": [
        "nltk.download('rslp')"
      ],
      "metadata": {
        "colab": {
          "base_uri": "https://localhost:8080/"
        },
        "id": "ujexKkpX0bcN",
        "outputId": "72cb3a11-93a6-4462-80df-e5b2cda4a64d"
      },
      "execution_count": null,
      "outputs": [
        {
          "output_type": "stream",
          "name": "stdout",
          "text": [
            "[nltk_data] Downloading package rslp to /root/nltk_data...\n",
            "[nltk_data]   Package rslp is already up-to-date!\n"
          ]
        },
        {
          "output_type": "execute_result",
          "data": {
            "text/plain": [
              "True"
            ]
          },
          "metadata": {},
          "execution_count": 31
        }
      ]
    },
    {
      "cell_type": "code",
      "source": [
        "nltk.download('stopwords')"
      ],
      "metadata": {
        "colab": {
          "base_uri": "https://localhost:8080/"
        },
        "id": "SgF1gAR1x3xR",
        "outputId": "9c7b6f6a-dbd1-4e55-ad01-294f759ebabd"
      },
      "execution_count": null,
      "outputs": [
        {
          "output_type": "stream",
          "name": "stdout",
          "text": [
            "[nltk_data] Downloading package stopwords to /root/nltk_data...\n",
            "[nltk_data]   Package stopwords is already up-to-date!\n"
          ]
        },
        {
          "output_type": "execute_result",
          "data": {
            "text/plain": [
              "True"
            ]
          },
          "metadata": {},
          "execution_count": 32
        }
      ]
    },
    {
      "cell_type": "code",
      "source": [
        "#pacote de  stopwords\n",
        "stopwords=nltk.corpus.stopwords.words('english')\n",
        "\n",
        "#regex para tag\n",
        "reg_tag=re.compile(r'<[^>]+>')\n",
        "\n",
        "#regex para url\n",
        "reg_url=re.compile(r'^https?:\\/\\/.*[\\r\\n]*')\n",
        "\n",
        "#regex para números\n",
        "reg_num=re.compile(r'[0-9]+')\n",
        "\n",
        "#regex unica\n",
        "reg_todas=re.compile('<[^>]+>|^https?:\\/\\/.*[\\r\\n]*|[0-9]+|^[@]|^[#]')\n",
        "\n",
        "#não tem o que comentart aqui\n",
        "stemmer = PorterStemmer()\n",
        "\n",
        "\n",
        "def limpar(original,  stem=True, joinString=False):\n",
        "  \n",
        "  #apenas minusculas\n",
        "  t=original.lower()\n",
        "\n",
        "  #remover char especial\n",
        "  t=unidecode.unidecode(t) \n",
        "  \n",
        "  #remove pontuação, masn mantém o arroba e hastag para \n",
        "  #dois pontos e barrasoutras limpezas\n",
        "  t=t.translate(str.maketrans('', '', \"!\\\"$%&'()*+,-.;<=>?[\\]^_`{|}~\"))\n",
        "\n",
        "  t=t.split()\n",
        "\n",
        "  t2=[]\n",
        "\n",
        "  for i in range(len(t)):\n",
        "    termo=t[i]\n",
        "    #remove stop words e pontuação\n",
        "    if (termo not in stopwords) and not (reg_todas.match(termo)):\n",
        "    #and not(reg_tag.match(termo)) \n",
        "    #and not(reg_url.match(termo)) \n",
        "    #and not (reg_num.match(termo)) \n",
        "    #and (not termo.startswith(\"@\") or not removerCitacao) \n",
        "    #and (not termo.startswith(\"#\")or not removerHash ):\n",
        "    \n",
        "    \n",
        "      t2.append(stemmer.stem(termo) if stem else termo)\n",
        "\n",
        "\n",
        "\n",
        "  return \" \".join(t2) if joinString else t2\n",
        "\n"
      ],
      "metadata": {
        "id": "VRZqiw6xnEn0"
      },
      "execution_count": null,
      "outputs": []
    },
    {
      "cell_type": "markdown",
      "source": [
        "###Demonstração"
      ],
      "metadata": {
        "id": "QkuTD9p2183Q"
      }
    },
    {
      "cell_type": "code",
      "source": [
        "#x_treino.sample(20)['Texto'].apply(limpar)\n",
        "df_demo=x_treino[['Texto']].sample(25)\n",
        "df_demo['Limpo']=df_demo['Texto'].apply(limpar)\n",
        "df_demo"
      ],
      "metadata": {
        "colab": {
          "base_uri": "https://localhost:8080/",
          "height": 833
        },
        "id": "lQkfAdTq14sR",
        "outputId": "8638f9f7-862f-4939-fd22-74ab7e6cfb6c"
      },
      "execution_count": null,
      "outputs": [
        {
          "output_type": "execute_result",
          "data": {
            "text/plain": [
              "                                                     Texto  \\\n",
              "14565    @MarielMendoza ive been good! i dont even see ...   \n",
              "4408     hates replaying that night in my head!!!! can'...   \n",
              "196694    is bored  cinema later though the sleep over (Y)   \n",
              "547363   Finally have native desktop identi.ca client o...   \n",
              "1280446  @SongzYuuup Ha ha u said shawty  I see the A i...   \n",
              "674304                                      Watching GIA.    \n",
              "300594   wishes that @tatii77 went to ice palace with h...   \n",
              "1203366  i'm kind of excited that I actually have time ...   \n",
              "5016     is back from New York, but wants to go back so...   \n",
              "163588   friends romans and country men lol ppl need 2 ...   \n",
              "1467308  @DailyProgress http://bit.ly/YbY5T  I'm glad t...   \n",
              "7283     Off to work. It is the start of a beautiful da...   \n",
              "1043010  @NikkiNoo1956 Sorry, miss read that, did you s...   \n",
              "1504885  @JohnLloydTaylor I liked it and idk if other p...   \n",
              "96538    @RetroRewind as long as you also allow us to l...   \n",
              "580404   @hr98nole it was while i was warming up my din...   \n",
              "1441053                     at tbell with soch and caro !    \n",
              "1315466  I can finally password protect specific apps o...   \n",
              "1350175                       First beer at 1038 . . Nice    \n",
              "397403   @ShiningSamy Y did u have to stain my favorite...   \n",
              "584988   @godandmars the murder of sylvia likens  http:...   \n",
              "312045                                   Stuck in traffic    \n",
              "48329                       oh noes, vacation almost over    \n",
              "534726   Trying to make sense in my head of daily life ...   \n",
              "606047   @Kirky555 hmm, can't seem to get a public time...   \n",
              "\n",
              "                                                     Limpo  \n",
              "14565            [ive, good, dont, even, see, campu, miss]  \n",
              "4408     [hate, replay, night, head, cant, happi, love,...  \n",
              "196694                [bore, cinema, later, though, sleep]  \n",
              "547363   [final, nativ, desktop, identica, client, os, ...  \n",
              "1280446            [ha, ha, u, said, shawti, see, wear, u]  \n",
              "674304                                        [watch, gia]  \n",
              "300594                            [wish, went, ice, palac]  \n",
              "1203366  [im, kind, excit, actual, time, watch, mtv, mo...  \n",
              "5016              [back, new, york, want, go, back, badli]  \n",
              "163588   [friend, roman, countri, men, lol, ppl, need, ...  \n",
              "1467308                      [im, glad, theyr, keep, open]  \n",
              "7283              [work, start, beauti, day, stuck, insid]  \n",
              "1043010  [sorri, miss, read, say, couldnt, fit, ars, br...  \n",
              "1504885  [like, idk, ppl, recogn, u, like, that, jt, th...  \n",
              "96538    [long, also, allow, us, listen, onlin, wouldnt...  \n",
              "580404                              [warm, dinner, though]  \n",
              "1441053                                [tbell, soch, caro]  \n",
              "1315466  [final, password, protect, specif, app, bb, wi...  \n",
              "1350175                                [first, beer, nice]  \n",
              "397403                           [u, stain, favorit, jean]  \n",
              "584988                             [murder, sylvia, liken]  \n",
              "312045                                    [stuck, traffic]  \n",
              "48329                             [oh, noe, vacat, almost]  \n",
              "534726   [tri, make, sens, head, daili, life, without, ...  \n",
              "606047             [hmm, cant, seem, get, public, timelin]  "
            ],
            "text/html": [
              "\n",
              "  <div id=\"df-170c8ce1-497a-4e89-9272-722ac10c4bc3\">\n",
              "    <div class=\"colab-df-container\">\n",
              "      <div>\n",
              "<style scoped>\n",
              "    .dataframe tbody tr th:only-of-type {\n",
              "        vertical-align: middle;\n",
              "    }\n",
              "\n",
              "    .dataframe tbody tr th {\n",
              "        vertical-align: top;\n",
              "    }\n",
              "\n",
              "    .dataframe thead th {\n",
              "        text-align: right;\n",
              "    }\n",
              "</style>\n",
              "<table border=\"1\" class=\"dataframe\">\n",
              "  <thead>\n",
              "    <tr style=\"text-align: right;\">\n",
              "      <th></th>\n",
              "      <th>Texto</th>\n",
              "      <th>Limpo</th>\n",
              "    </tr>\n",
              "  </thead>\n",
              "  <tbody>\n",
              "    <tr>\n",
              "      <th>14565</th>\n",
              "      <td>@MarielMendoza ive been good! i dont even see ...</td>\n",
              "      <td>[ive, good, dont, even, see, campu, miss]</td>\n",
              "    </tr>\n",
              "    <tr>\n",
              "      <th>4408</th>\n",
              "      <td>hates replaying that night in my head!!!! can'...</td>\n",
              "      <td>[hate, replay, night, head, cant, happi, love,...</td>\n",
              "    </tr>\n",
              "    <tr>\n",
              "      <th>196694</th>\n",
              "      <td>is bored  cinema later though the sleep over (Y)</td>\n",
              "      <td>[bore, cinema, later, though, sleep]</td>\n",
              "    </tr>\n",
              "    <tr>\n",
              "      <th>547363</th>\n",
              "      <td>Finally have native desktop identi.ca client o...</td>\n",
              "      <td>[final, nativ, desktop, identica, client, os, ...</td>\n",
              "    </tr>\n",
              "    <tr>\n",
              "      <th>1280446</th>\n",
              "      <td>@SongzYuuup Ha ha u said shawty  I see the A i...</td>\n",
              "      <td>[ha, ha, u, said, shawti, see, wear, u]</td>\n",
              "    </tr>\n",
              "    <tr>\n",
              "      <th>674304</th>\n",
              "      <td>Watching GIA.</td>\n",
              "      <td>[watch, gia]</td>\n",
              "    </tr>\n",
              "    <tr>\n",
              "      <th>300594</th>\n",
              "      <td>wishes that @tatii77 went to ice palace with h...</td>\n",
              "      <td>[wish, went, ice, palac]</td>\n",
              "    </tr>\n",
              "    <tr>\n",
              "      <th>1203366</th>\n",
              "      <td>i'm kind of excited that I actually have time ...</td>\n",
              "      <td>[im, kind, excit, actual, time, watch, mtv, mo...</td>\n",
              "    </tr>\n",
              "    <tr>\n",
              "      <th>5016</th>\n",
              "      <td>is back from New York, but wants to go back so...</td>\n",
              "      <td>[back, new, york, want, go, back, badli]</td>\n",
              "    </tr>\n",
              "    <tr>\n",
              "      <th>163588</th>\n",
              "      <td>friends romans and country men lol ppl need 2 ...</td>\n",
              "      <td>[friend, roman, countri, men, lol, ppl, need, ...</td>\n",
              "    </tr>\n",
              "    <tr>\n",
              "      <th>1467308</th>\n",
              "      <td>@DailyProgress http://bit.ly/YbY5T  I'm glad t...</td>\n",
              "      <td>[im, glad, theyr, keep, open]</td>\n",
              "    </tr>\n",
              "    <tr>\n",
              "      <th>7283</th>\n",
              "      <td>Off to work. It is the start of a beautiful da...</td>\n",
              "      <td>[work, start, beauti, day, stuck, insid]</td>\n",
              "    </tr>\n",
              "    <tr>\n",
              "      <th>1043010</th>\n",
              "      <td>@NikkiNoo1956 Sorry, miss read that, did you s...</td>\n",
              "      <td>[sorri, miss, read, say, couldnt, fit, ars, br...</td>\n",
              "    </tr>\n",
              "    <tr>\n",
              "      <th>1504885</th>\n",
              "      <td>@JohnLloydTaylor I liked it and idk if other p...</td>\n",
              "      <td>[like, idk, ppl, recogn, u, like, that, jt, th...</td>\n",
              "    </tr>\n",
              "    <tr>\n",
              "      <th>96538</th>\n",
              "      <td>@RetroRewind as long as you also allow us to l...</td>\n",
              "      <td>[long, also, allow, us, listen, onlin, wouldnt...</td>\n",
              "    </tr>\n",
              "    <tr>\n",
              "      <th>580404</th>\n",
              "      <td>@hr98nole it was while i was warming up my din...</td>\n",
              "      <td>[warm, dinner, though]</td>\n",
              "    </tr>\n",
              "    <tr>\n",
              "      <th>1441053</th>\n",
              "      <td>at tbell with soch and caro !</td>\n",
              "      <td>[tbell, soch, caro]</td>\n",
              "    </tr>\n",
              "    <tr>\n",
              "      <th>1315466</th>\n",
              "      <td>I can finally password protect specific apps o...</td>\n",
              "      <td>[final, password, protect, specif, app, bb, wi...</td>\n",
              "    </tr>\n",
              "    <tr>\n",
              "      <th>1350175</th>\n",
              "      <td>First beer at 1038 . . Nice</td>\n",
              "      <td>[first, beer, nice]</td>\n",
              "    </tr>\n",
              "    <tr>\n",
              "      <th>397403</th>\n",
              "      <td>@ShiningSamy Y did u have to stain my favorite...</td>\n",
              "      <td>[u, stain, favorit, jean]</td>\n",
              "    </tr>\n",
              "    <tr>\n",
              "      <th>584988</th>\n",
              "      <td>@godandmars the murder of sylvia likens  http:...</td>\n",
              "      <td>[murder, sylvia, liken]</td>\n",
              "    </tr>\n",
              "    <tr>\n",
              "      <th>312045</th>\n",
              "      <td>Stuck in traffic</td>\n",
              "      <td>[stuck, traffic]</td>\n",
              "    </tr>\n",
              "    <tr>\n",
              "      <th>48329</th>\n",
              "      <td>oh noes, vacation almost over</td>\n",
              "      <td>[oh, noe, vacat, almost]</td>\n",
              "    </tr>\n",
              "    <tr>\n",
              "      <th>534726</th>\n",
              "      <td>Trying to make sense in my head of daily life ...</td>\n",
              "      <td>[tri, make, sens, head, daili, life, without, ...</td>\n",
              "    </tr>\n",
              "    <tr>\n",
              "      <th>606047</th>\n",
              "      <td>@Kirky555 hmm, can't seem to get a public time...</td>\n",
              "      <td>[hmm, cant, seem, get, public, timelin]</td>\n",
              "    </tr>\n",
              "  </tbody>\n",
              "</table>\n",
              "</div>\n",
              "      <button class=\"colab-df-convert\" onclick=\"convertToInteractive('df-170c8ce1-497a-4e89-9272-722ac10c4bc3')\"\n",
              "              title=\"Convert this dataframe to an interactive table.\"\n",
              "              style=\"display:none;\">\n",
              "        \n",
              "  <svg xmlns=\"http://www.w3.org/2000/svg\" height=\"24px\"viewBox=\"0 0 24 24\"\n",
              "       width=\"24px\">\n",
              "    <path d=\"M0 0h24v24H0V0z\" fill=\"none\"/>\n",
              "    <path d=\"M18.56 5.44l.94 2.06.94-2.06 2.06-.94-2.06-.94-.94-2.06-.94 2.06-2.06.94zm-11 1L8.5 8.5l.94-2.06 2.06-.94-2.06-.94L8.5 2.5l-.94 2.06-2.06.94zm10 10l.94 2.06.94-2.06 2.06-.94-2.06-.94-.94-2.06-.94 2.06-2.06.94z\"/><path d=\"M17.41 7.96l-1.37-1.37c-.4-.4-.92-.59-1.43-.59-.52 0-1.04.2-1.43.59L10.3 9.45l-7.72 7.72c-.78.78-.78 2.05 0 2.83L4 21.41c.39.39.9.59 1.41.59.51 0 1.02-.2 1.41-.59l7.78-7.78 2.81-2.81c.8-.78.8-2.07 0-2.86zM5.41 20L4 18.59l7.72-7.72 1.47 1.35L5.41 20z\"/>\n",
              "  </svg>\n",
              "      </button>\n",
              "      \n",
              "  <style>\n",
              "    .colab-df-container {\n",
              "      display:flex;\n",
              "      flex-wrap:wrap;\n",
              "      gap: 12px;\n",
              "    }\n",
              "\n",
              "    .colab-df-convert {\n",
              "      background-color: #E8F0FE;\n",
              "      border: none;\n",
              "      border-radius: 50%;\n",
              "      cursor: pointer;\n",
              "      display: none;\n",
              "      fill: #1967D2;\n",
              "      height: 32px;\n",
              "      padding: 0 0 0 0;\n",
              "      width: 32px;\n",
              "    }\n",
              "\n",
              "    .colab-df-convert:hover {\n",
              "      background-color: #E2EBFA;\n",
              "      box-shadow: 0px 1px 2px rgba(60, 64, 67, 0.3), 0px 1px 3px 1px rgba(60, 64, 67, 0.15);\n",
              "      fill: #174EA6;\n",
              "    }\n",
              "\n",
              "    [theme=dark] .colab-df-convert {\n",
              "      background-color: #3B4455;\n",
              "      fill: #D2E3FC;\n",
              "    }\n",
              "\n",
              "    [theme=dark] .colab-df-convert:hover {\n",
              "      background-color: #434B5C;\n",
              "      box-shadow: 0px 1px 3px 1px rgba(0, 0, 0, 0.15);\n",
              "      filter: drop-shadow(0px 1px 2px rgba(0, 0, 0, 0.3));\n",
              "      fill: #FFFFFF;\n",
              "    }\n",
              "  </style>\n",
              "\n",
              "      <script>\n",
              "        const buttonEl =\n",
              "          document.querySelector('#df-170c8ce1-497a-4e89-9272-722ac10c4bc3 button.colab-df-convert');\n",
              "        buttonEl.style.display =\n",
              "          google.colab.kernel.accessAllowed ? 'block' : 'none';\n",
              "\n",
              "        async function convertToInteractive(key) {\n",
              "          const element = document.querySelector('#df-170c8ce1-497a-4e89-9272-722ac10c4bc3');\n",
              "          const dataTable =\n",
              "            await google.colab.kernel.invokeFunction('convertToInteractive',\n",
              "                                                     [key], {});\n",
              "          if (!dataTable) return;\n",
              "\n",
              "          const docLinkHtml = 'Like what you see? Visit the ' +\n",
              "            '<a target=\"_blank\" href=https://colab.research.google.com/notebooks/data_table.ipynb>data table notebook</a>'\n",
              "            + ' to learn more about interactive tables.';\n",
              "          element.innerHTML = '';\n",
              "          dataTable['output_type'] = 'display_data';\n",
              "          await google.colab.output.renderOutput(dataTable, element);\n",
              "          const docLink = document.createElement('div');\n",
              "          docLink.innerHTML = docLinkHtml;\n",
              "          element.appendChild(docLink);\n",
              "        }\n",
              "      </script>\n",
              "    </div>\n",
              "  </div>\n",
              "  "
            ]
          },
          "metadata": {},
          "execution_count": 34
        }
      ]
    },
    {
      "cell_type": "code",
      "source": [
        "limpar(\"texto's #Esquisitos! caço, pão @Twiter case sports eventually\",  joinString=True)"
      ],
      "metadata": {
        "colab": {
          "base_uri": "https://localhost:8080/",
          "height": 35
        },
        "id": "JEi-xfr8wjO8",
        "outputId": "f142e6e3-14e1-413a-95dc-675ceb238302"
      },
      "execution_count": null,
      "outputs": [
        {
          "output_type": "execute_result",
          "data": {
            "text/plain": [
              "'texto caco pao case sport eventu'"
            ],
            "application/vnd.google.colaboratory.intrinsic+json": {
              "type": "string"
            }
          },
          "metadata": {},
          "execution_count": 35
        }
      ]
    },
    {
      "cell_type": "markdown",
      "source": [
        "Nesse ponto da análise ainda não faz sentido aplicar a função de limpeza no dataset."
      ],
      "metadata": {
        "id": "YXqGATlU2CWP"
      }
    },
    {
      "cell_type": "markdown",
      "source": [
        "#Tokkens, Bigrams e Trigrams"
      ],
      "metadata": {
        "id": "eu9wFZlP2Roc"
      }
    },
    {
      "cell_type": "markdown",
      "source": [
        "##Função tokken-bigram-trigram"
      ],
      "metadata": {
        "id": "ZpkSJ0jS6lfu"
      }
    },
    {
      "cell_type": "code",
      "source": [
        "def tobitri(original, gramsAsList=False):\n",
        "\n",
        "  #a função de limpeza tokkeniza por padrão\n",
        "  tokkens=limpar(original)\n",
        "\n",
        "  b=[]\n",
        "  t=[]\n",
        "\n",
        "  #bigrams\n",
        "  for i in range(len(tokkens)-1):\n",
        "    if gramsAsList:\n",
        "      b.append(tokkens[i:i+2])\n",
        "    else :\n",
        "      b.append(tokkens[i]+\"__\" + tokkens[i+1])\n",
        "  \n",
        "  #trigrams\n",
        "  for i in range(len(tokkens)-2):\n",
        "    if gramsAsList:\n",
        "      b.append(tokkens[i:i+3])\n",
        "    else :\n",
        "      b.append(tokkens[i]+\"__\" + tokkens[i+1]+\"__\" + tokkens[i+2])\n",
        "\n",
        "  tokkens.extend(b)\n",
        "  tokkens.extend(t)\n",
        "\n",
        "  return tokkens\n",
        "\n"
      ],
      "metadata": {
        "id": "bsR9nqAdwnNA"
      },
      "execution_count": null,
      "outputs": []
    },
    {
      "cell_type": "markdown",
      "source": [
        "##Demonstração"
      ],
      "metadata": {
        "id": "CukwKR585jI8"
      }
    },
    {
      "cell_type": "code",
      "source": [
        "tobitri(\"texto's #Esquisitos! caço, pão @Twiter case sports eventually\")"
      ],
      "metadata": {
        "colab": {
          "base_uri": "https://localhost:8080/"
        },
        "id": "Zfy37ami38jw",
        "outputId": "5c2dc634-8b0e-4b77-e651-f9d465ea40e4"
      },
      "execution_count": null,
      "outputs": [
        {
          "output_type": "execute_result",
          "data": {
            "text/plain": [
              "['texto',\n",
              " 'caco',\n",
              " 'pao',\n",
              " 'case',\n",
              " 'sport',\n",
              " 'eventu',\n",
              " 'texto__caco',\n",
              " 'caco__pao',\n",
              " 'pao__case',\n",
              " 'case__sport',\n",
              " 'sport__eventu',\n",
              " 'texto__caco__pao',\n",
              " 'caco__pao__case',\n",
              " 'pao__case__sport',\n",
              " 'case__sport__eventu']"
            ]
          },
          "metadata": {},
          "execution_count": 37
        }
      ]
    },
    {
      "cell_type": "code",
      "source": [
        "tobitri(\"texto's #Esquisitos! caço, pão @Twiter case sports eventually\", gramsAsList=True)"
      ],
      "metadata": {
        "colab": {
          "base_uri": "https://localhost:8080/"
        },
        "id": "02rjWUaI5lfI",
        "outputId": "b8de0bdf-cd72-4375-953a-615e487a7d24"
      },
      "execution_count": null,
      "outputs": [
        {
          "output_type": "execute_result",
          "data": {
            "text/plain": [
              "['texto',\n",
              " 'caco',\n",
              " 'pao',\n",
              " 'case',\n",
              " 'sport',\n",
              " 'eventu',\n",
              " ['texto', 'caco'],\n",
              " ['caco', 'pao'],\n",
              " ['pao', 'case'],\n",
              " ['case', 'sport'],\n",
              " ['sport', 'eventu'],\n",
              " ['texto', 'caco', 'pao'],\n",
              " ['caco', 'pao', 'case'],\n",
              " ['pao', 'case', 'sport'],\n",
              " ['case', 'sport', 'eventu']]"
            ]
          },
          "metadata": {},
          "execution_count": 38
        }
      ]
    },
    {
      "cell_type": "code",
      "source": [
        "x_treino.sample(20)['Texto'].apply(tobitri)"
      ],
      "metadata": {
        "colab": {
          "base_uri": "https://localhost:8080/"
        },
        "id": "EUsSa_9V5qBw",
        "outputId": "cc60a17c-db06-4774-bffa-7e109f9e9f0d"
      },
      "execution_count": null,
      "outputs": [
        {
          "output_type": "execute_result",
          "data": {
            "text/plain": [
              "1597668    [love, get, birthday, marc, bailey, never, tak...\n",
              "1547000    [await, sexyboy, arriv, fun, time, week, await...\n",
              "540789     [think, your, unfair, nathan, think__your, you...\n",
              "563399     [lunch, car, insur, sort, iphon, download, cof...\n",
              "544119     [waaaaahhh, ohyeah, someth, eeee, haha, waaaaa...\n",
              "793707     [think, go, die, heat, exhaust, think__go, go_...\n",
              "1338808                                                [yup]\n",
              "1411657    [outsid, campu, excit, wana, danc, man, follow...\n",
              "651747     [phone, case, mess, phone, cant, use, case, an...\n",
              "37735      [dont, want, end, dont__want, want__end, dont_...\n",
              "106546     [love, tudor, jonathon, hot, get, watch, mummi...\n",
              "421932     [yeah, keep, think, hubbi, dont, like, name, w...\n",
              "1030945    [think, might, ran, across, pictur, forum, mem...\n",
              "1383240    [ever, tell, alreadi, got, visitor, new, hous,...\n",
              "328111     [cant, find, post, echo, soul, one, book, read...\n",
              "1353624    [wow, didnt, know, twitter, havent, decid, any...\n",
              "843236     [thing, better, would, video, footag, us, see,...\n",
              "368972     [firiend, go, parti, tonight, well, sorta, par...\n",
              "1140728    [ive, spend, lot, time, get, know, bovin, neig...\n",
              "349337     [work, realli, realli, suck, week, havent, muc...\n",
              "Name: Texto, dtype: object"
            ]
          },
          "metadata": {},
          "execution_count": 39
        }
      ]
    },
    {
      "cell_type": "markdown",
      "source": [
        "Novamente não faz sentido aplicar a tokkenização nesse ponto da análise."
      ],
      "metadata": {
        "id": "bDGzH6dh56Yo"
      }
    },
    {
      "cell_type": "markdown",
      "source": [
        "#Análise de Frequência de Tokkens"
      ],
      "metadata": {
        "id": "x_76oMRj6xVf"
      }
    },
    {
      "cell_type": "code",
      "source": [
        "#iremos fazer transformações destrutivas\n",
        "df_analise=x_treino.copy()"
      ],
      "metadata": {
        "id": "HFz8EJ3Z52m4"
      },
      "execution_count": null,
      "outputs": []
    },
    {
      "cell_type": "code",
      "source": [
        "#usado na hora de calcular percentuais\n",
        "total_documentos=df_analise.shape[0]"
      ],
      "metadata": {
        "id": "zAMiOFOF_c2I"
      },
      "execution_count": null,
      "outputs": []
    },
    {
      "cell_type": "code",
      "source": [
        "#cria a coluna de tokkens\n",
        "df_analise['Tokkens']=df_analise['Texto'].apply(tobitri)"
      ],
      "metadata": {
        "id": "77Q0IwNH8nvw"
      },
      "execution_count": null,
      "outputs": []
    },
    {
      "cell_type": "code",
      "source": [
        "#remove a coluna de texto não mais necessária\n",
        "df_analise.drop(['Texto'], axis=1, inplace=True)"
      ],
      "metadata": {
        "id": "vNvas0FX9Uuw"
      },
      "execution_count": null,
      "outputs": []
    },
    {
      "cell_type": "code",
      "source": [
        "#transforma o array de tokkens em linhas para contagem\n",
        "df_analise_norm =df_analise.explode('Tokkens')"
      ],
      "metadata": {
        "id": "lZagL4cr9xJB"
      },
      "execution_count": null,
      "outputs": []
    },
    {
      "cell_type": "code",
      "source": [
        "#limpeza\n",
        "del df_analise"
      ],
      "metadata": {
        "id": "ah60fJ6t-1SK"
      },
      "execution_count": null,
      "outputs": []
    },
    {
      "cell_type": "code",
      "source": [
        "#count distint por tokken\n",
        "df_frequencia=df_analise_norm.groupby('Tokkens', as_index=False)['Id'].nunique()"
      ],
      "metadata": {
        "id": "IRVyd7uU_Qqq"
      },
      "execution_count": null,
      "outputs": []
    },
    {
      "cell_type": "code",
      "source": [
        "#nome melhor para coluna\n",
        "df_frequencia.rename(columns={'Id':'Qtd_Ocor'}, inplace=True)"
      ],
      "metadata": {
        "id": "Ojiofn3B9ZDh"
      },
      "execution_count": null,
      "outputs": []
    },
    {
      "cell_type": "code",
      "source": [
        "df_frequencia.info()"
      ],
      "metadata": {
        "colab": {
          "base_uri": "https://localhost:8080/"
        },
        "id": "4eikv23YFHw6",
        "outputId": "bdbc8f74-0763-488f-c9b5-3b7a0684a1de"
      },
      "execution_count": null,
      "outputs": [
        {
          "output_type": "stream",
          "name": "stdout",
          "text": [
            "<class 'pandas.core.frame.DataFrame'>\n",
            "RangeIndex: 8060269 entries, 0 to 8060268\n",
            "Data columns (total 2 columns):\n",
            " #   Column    Dtype \n",
            "---  ------    ----- \n",
            " 0   Tokkens   object\n",
            " 1   Qtd_Ocor  int64 \n",
            "dtypes: int64(1), object(1)\n",
            "memory usage: 123.0+ MB\n"
          ]
        }
      ]
    },
    {
      "cell_type": "markdown",
      "source": [
        "##Cálculo do percentual de ocorrência"
      ],
      "metadata": {
        "id": "NEqehMsNzNwb"
      }
    },
    {
      "cell_type": "code",
      "source": [
        "#calcula a frequencia\n",
        "df_frequencia['Perc']=(df_frequencia['Qtd_Ocor']/total_documentos)*100"
      ],
      "metadata": {
        "id": "ScX1rJ439vL3"
      },
      "execution_count": null,
      "outputs": []
    },
    {
      "cell_type": "code",
      "source": [
        "#vamos ver os melhores casos\n",
        "df_frequencia.sort_values(by=['Perc'],  ascending=False, inplace=True)"
      ],
      "metadata": {
        "id": "ToKuK4Z9Cwfh"
      },
      "execution_count": null,
      "outputs": []
    },
    {
      "cell_type": "code",
      "source": [
        "#Termos mais frequentes\n",
        "df_frequencia.head(5)"
      ],
      "metadata": {
        "colab": {
          "base_uri": "https://localhost:8080/",
          "height": 206
        },
        "id": "9BxIlj-MDCQZ",
        "outputId": "c85bf111-5e67-4bab-fa40-22145ecc60d0"
      },
      "execution_count": null,
      "outputs": [
        {
          "output_type": "execute_result",
          "data": {
            "text/plain": [
              "        Tokkens  Qtd_Ocor       Perc\n",
              "3320988      im    114921  10.260804\n",
              "2570041      go     90146   8.048750\n",
              "2465430     get     73519   6.564196\n",
              "1489731     day     67018   5.983750\n",
              "2671195    good     60749   5.424018"
            ],
            "text/html": [
              "\n",
              "  <div id=\"df-f9f47c55-b6d4-4a78-805a-319d58d012bd\">\n",
              "    <div class=\"colab-df-container\">\n",
              "      <div>\n",
              "<style scoped>\n",
              "    .dataframe tbody tr th:only-of-type {\n",
              "        vertical-align: middle;\n",
              "    }\n",
              "\n",
              "    .dataframe tbody tr th {\n",
              "        vertical-align: top;\n",
              "    }\n",
              "\n",
              "    .dataframe thead th {\n",
              "        text-align: right;\n",
              "    }\n",
              "</style>\n",
              "<table border=\"1\" class=\"dataframe\">\n",
              "  <thead>\n",
              "    <tr style=\"text-align: right;\">\n",
              "      <th></th>\n",
              "      <th>Tokkens</th>\n",
              "      <th>Qtd_Ocor</th>\n",
              "      <th>Perc</th>\n",
              "    </tr>\n",
              "  </thead>\n",
              "  <tbody>\n",
              "    <tr>\n",
              "      <th>3320988</th>\n",
              "      <td>im</td>\n",
              "      <td>114921</td>\n",
              "      <td>10.260804</td>\n",
              "    </tr>\n",
              "    <tr>\n",
              "      <th>2570041</th>\n",
              "      <td>go</td>\n",
              "      <td>90146</td>\n",
              "      <td>8.048750</td>\n",
              "    </tr>\n",
              "    <tr>\n",
              "      <th>2465430</th>\n",
              "      <td>get</td>\n",
              "      <td>73519</td>\n",
              "      <td>6.564196</td>\n",
              "    </tr>\n",
              "    <tr>\n",
              "      <th>1489731</th>\n",
              "      <td>day</td>\n",
              "      <td>67018</td>\n",
              "      <td>5.983750</td>\n",
              "    </tr>\n",
              "    <tr>\n",
              "      <th>2671195</th>\n",
              "      <td>good</td>\n",
              "      <td>60749</td>\n",
              "      <td>5.424018</td>\n",
              "    </tr>\n",
              "  </tbody>\n",
              "</table>\n",
              "</div>\n",
              "      <button class=\"colab-df-convert\" onclick=\"convertToInteractive('df-f9f47c55-b6d4-4a78-805a-319d58d012bd')\"\n",
              "              title=\"Convert this dataframe to an interactive table.\"\n",
              "              style=\"display:none;\">\n",
              "        \n",
              "  <svg xmlns=\"http://www.w3.org/2000/svg\" height=\"24px\"viewBox=\"0 0 24 24\"\n",
              "       width=\"24px\">\n",
              "    <path d=\"M0 0h24v24H0V0z\" fill=\"none\"/>\n",
              "    <path d=\"M18.56 5.44l.94 2.06.94-2.06 2.06-.94-2.06-.94-.94-2.06-.94 2.06-2.06.94zm-11 1L8.5 8.5l.94-2.06 2.06-.94-2.06-.94L8.5 2.5l-.94 2.06-2.06.94zm10 10l.94 2.06.94-2.06 2.06-.94-2.06-.94-.94-2.06-.94 2.06-2.06.94z\"/><path d=\"M17.41 7.96l-1.37-1.37c-.4-.4-.92-.59-1.43-.59-.52 0-1.04.2-1.43.59L10.3 9.45l-7.72 7.72c-.78.78-.78 2.05 0 2.83L4 21.41c.39.39.9.59 1.41.59.51 0 1.02-.2 1.41-.59l7.78-7.78 2.81-2.81c.8-.78.8-2.07 0-2.86zM5.41 20L4 18.59l7.72-7.72 1.47 1.35L5.41 20z\"/>\n",
              "  </svg>\n",
              "      </button>\n",
              "      \n",
              "  <style>\n",
              "    .colab-df-container {\n",
              "      display:flex;\n",
              "      flex-wrap:wrap;\n",
              "      gap: 12px;\n",
              "    }\n",
              "\n",
              "    .colab-df-convert {\n",
              "      background-color: #E8F0FE;\n",
              "      border: none;\n",
              "      border-radius: 50%;\n",
              "      cursor: pointer;\n",
              "      display: none;\n",
              "      fill: #1967D2;\n",
              "      height: 32px;\n",
              "      padding: 0 0 0 0;\n",
              "      width: 32px;\n",
              "    }\n",
              "\n",
              "    .colab-df-convert:hover {\n",
              "      background-color: #E2EBFA;\n",
              "      box-shadow: 0px 1px 2px rgba(60, 64, 67, 0.3), 0px 1px 3px 1px rgba(60, 64, 67, 0.15);\n",
              "      fill: #174EA6;\n",
              "    }\n",
              "\n",
              "    [theme=dark] .colab-df-convert {\n",
              "      background-color: #3B4455;\n",
              "      fill: #D2E3FC;\n",
              "    }\n",
              "\n",
              "    [theme=dark] .colab-df-convert:hover {\n",
              "      background-color: #434B5C;\n",
              "      box-shadow: 0px 1px 3px 1px rgba(0, 0, 0, 0.15);\n",
              "      filter: drop-shadow(0px 1px 2px rgba(0, 0, 0, 0.3));\n",
              "      fill: #FFFFFF;\n",
              "    }\n",
              "  </style>\n",
              "\n",
              "      <script>\n",
              "        const buttonEl =\n",
              "          document.querySelector('#df-f9f47c55-b6d4-4a78-805a-319d58d012bd button.colab-df-convert');\n",
              "        buttonEl.style.display =\n",
              "          google.colab.kernel.accessAllowed ? 'block' : 'none';\n",
              "\n",
              "        async function convertToInteractive(key) {\n",
              "          const element = document.querySelector('#df-f9f47c55-b6d4-4a78-805a-319d58d012bd');\n",
              "          const dataTable =\n",
              "            await google.colab.kernel.invokeFunction('convertToInteractive',\n",
              "                                                     [key], {});\n",
              "          if (!dataTable) return;\n",
              "\n",
              "          const docLinkHtml = 'Like what you see? Visit the ' +\n",
              "            '<a target=\"_blank\" href=https://colab.research.google.com/notebooks/data_table.ipynb>data table notebook</a>'\n",
              "            + ' to learn more about interactive tables.';\n",
              "          element.innerHTML = '';\n",
              "          dataTable['output_type'] = 'display_data';\n",
              "          await google.colab.output.renderOutput(dataTable, element);\n",
              "          const docLink = document.createElement('div');\n",
              "          docLink.innerHTML = docLinkHtml;\n",
              "          element.appendChild(docLink);\n",
              "        }\n",
              "      </script>\n",
              "    </div>\n",
              "  </div>\n",
              "  "
            ]
          },
          "metadata": {},
          "execution_count": 51
        }
      ]
    },
    {
      "cell_type": "markdown",
      "source": [
        "##Tokkens com frequência igual ou acima 1%"
      ],
      "metadata": {
        "id": "yuvDWJM7zaIb"
      }
    },
    {
      "cell_type": "code",
      "source": [
        "#lista de tokkens com frquencia de 1% ou mais\n",
        "tokkens_significativos=df_frequencia.loc[df_frequencia['Perc']>=1]"
      ],
      "metadata": {
        "id": "N9AuWvH5FSd5"
      },
      "execution_count": null,
      "outputs": []
    },
    {
      "cell_type": "code",
      "source": [
        "#total de tokkens selecionados\n",
        "tokkens_significativos.shape[0]"
      ],
      "metadata": {
        "colab": {
          "base_uri": "https://localhost:8080/"
        },
        "id": "n7gsry8YHfqv",
        "outputId": "ced5344b-bb39-4089-aa31-6a72708e4406"
      },
      "execution_count": null,
      "outputs": [
        {
          "output_type": "execute_result",
          "data": {
            "text/plain": [
              "101"
            ]
          },
          "metadata": {},
          "execution_count": 53
        }
      ]
    },
    {
      "cell_type": "code",
      "source": [
        "tokkens_significativos"
      ],
      "metadata": {
        "colab": {
          "base_uri": "https://localhost:8080/",
          "height": 424
        },
        "id": "zvZczUBaLYe5",
        "outputId": "d058503e-34ef-40fa-92ad-1856470a5f1f"
      },
      "execution_count": null,
      "outputs": [
        {
          "output_type": "execute_result",
          "data": {
            "text/plain": [
              "         Tokkens  Qtd_Ocor       Perc\n",
              "3320988       im    114921  10.260804\n",
              "2570041       go     90146   8.048750\n",
              "2465430      get     73519   6.564196\n",
              "1489731      day     67018   5.983750\n",
              "2671195     good     60749   5.424018\n",
              "...          ...       ...        ...\n",
              "3947970    littl     11522   1.028750\n",
              "4016764     long     11467   1.023839\n",
              "1989567  everyon     11376   1.015714\n",
              "2221051    first     11374   1.015536\n",
              "6930017     tire     11349   1.013304\n",
              "\n",
              "[101 rows x 3 columns]"
            ],
            "text/html": [
              "\n",
              "  <div id=\"df-3874f190-a81d-4aa1-83b0-654d6c970ce2\">\n",
              "    <div class=\"colab-df-container\">\n",
              "      <div>\n",
              "<style scoped>\n",
              "    .dataframe tbody tr th:only-of-type {\n",
              "        vertical-align: middle;\n",
              "    }\n",
              "\n",
              "    .dataframe tbody tr th {\n",
              "        vertical-align: top;\n",
              "    }\n",
              "\n",
              "    .dataframe thead th {\n",
              "        text-align: right;\n",
              "    }\n",
              "</style>\n",
              "<table border=\"1\" class=\"dataframe\">\n",
              "  <thead>\n",
              "    <tr style=\"text-align: right;\">\n",
              "      <th></th>\n",
              "      <th>Tokkens</th>\n",
              "      <th>Qtd_Ocor</th>\n",
              "      <th>Perc</th>\n",
              "    </tr>\n",
              "  </thead>\n",
              "  <tbody>\n",
              "    <tr>\n",
              "      <th>3320988</th>\n",
              "      <td>im</td>\n",
              "      <td>114921</td>\n",
              "      <td>10.260804</td>\n",
              "    </tr>\n",
              "    <tr>\n",
              "      <th>2570041</th>\n",
              "      <td>go</td>\n",
              "      <td>90146</td>\n",
              "      <td>8.048750</td>\n",
              "    </tr>\n",
              "    <tr>\n",
              "      <th>2465430</th>\n",
              "      <td>get</td>\n",
              "      <td>73519</td>\n",
              "      <td>6.564196</td>\n",
              "    </tr>\n",
              "    <tr>\n",
              "      <th>1489731</th>\n",
              "      <td>day</td>\n",
              "      <td>67018</td>\n",
              "      <td>5.983750</td>\n",
              "    </tr>\n",
              "    <tr>\n",
              "      <th>2671195</th>\n",
              "      <td>good</td>\n",
              "      <td>60749</td>\n",
              "      <td>5.424018</td>\n",
              "    </tr>\n",
              "    <tr>\n",
              "      <th>...</th>\n",
              "      <td>...</td>\n",
              "      <td>...</td>\n",
              "      <td>...</td>\n",
              "    </tr>\n",
              "    <tr>\n",
              "      <th>3947970</th>\n",
              "      <td>littl</td>\n",
              "      <td>11522</td>\n",
              "      <td>1.028750</td>\n",
              "    </tr>\n",
              "    <tr>\n",
              "      <th>4016764</th>\n",
              "      <td>long</td>\n",
              "      <td>11467</td>\n",
              "      <td>1.023839</td>\n",
              "    </tr>\n",
              "    <tr>\n",
              "      <th>1989567</th>\n",
              "      <td>everyon</td>\n",
              "      <td>11376</td>\n",
              "      <td>1.015714</td>\n",
              "    </tr>\n",
              "    <tr>\n",
              "      <th>2221051</th>\n",
              "      <td>first</td>\n",
              "      <td>11374</td>\n",
              "      <td>1.015536</td>\n",
              "    </tr>\n",
              "    <tr>\n",
              "      <th>6930017</th>\n",
              "      <td>tire</td>\n",
              "      <td>11349</td>\n",
              "      <td>1.013304</td>\n",
              "    </tr>\n",
              "  </tbody>\n",
              "</table>\n",
              "<p>101 rows × 3 columns</p>\n",
              "</div>\n",
              "      <button class=\"colab-df-convert\" onclick=\"convertToInteractive('df-3874f190-a81d-4aa1-83b0-654d6c970ce2')\"\n",
              "              title=\"Convert this dataframe to an interactive table.\"\n",
              "              style=\"display:none;\">\n",
              "        \n",
              "  <svg xmlns=\"http://www.w3.org/2000/svg\" height=\"24px\"viewBox=\"0 0 24 24\"\n",
              "       width=\"24px\">\n",
              "    <path d=\"M0 0h24v24H0V0z\" fill=\"none\"/>\n",
              "    <path d=\"M18.56 5.44l.94 2.06.94-2.06 2.06-.94-2.06-.94-.94-2.06-.94 2.06-2.06.94zm-11 1L8.5 8.5l.94-2.06 2.06-.94-2.06-.94L8.5 2.5l-.94 2.06-2.06.94zm10 10l.94 2.06.94-2.06 2.06-.94-2.06-.94-.94-2.06-.94 2.06-2.06.94z\"/><path d=\"M17.41 7.96l-1.37-1.37c-.4-.4-.92-.59-1.43-.59-.52 0-1.04.2-1.43.59L10.3 9.45l-7.72 7.72c-.78.78-.78 2.05 0 2.83L4 21.41c.39.39.9.59 1.41.59.51 0 1.02-.2 1.41-.59l7.78-7.78 2.81-2.81c.8-.78.8-2.07 0-2.86zM5.41 20L4 18.59l7.72-7.72 1.47 1.35L5.41 20z\"/>\n",
              "  </svg>\n",
              "      </button>\n",
              "      \n",
              "  <style>\n",
              "    .colab-df-container {\n",
              "      display:flex;\n",
              "      flex-wrap:wrap;\n",
              "      gap: 12px;\n",
              "    }\n",
              "\n",
              "    .colab-df-convert {\n",
              "      background-color: #E8F0FE;\n",
              "      border: none;\n",
              "      border-radius: 50%;\n",
              "      cursor: pointer;\n",
              "      display: none;\n",
              "      fill: #1967D2;\n",
              "      height: 32px;\n",
              "      padding: 0 0 0 0;\n",
              "      width: 32px;\n",
              "    }\n",
              "\n",
              "    .colab-df-convert:hover {\n",
              "      background-color: #E2EBFA;\n",
              "      box-shadow: 0px 1px 2px rgba(60, 64, 67, 0.3), 0px 1px 3px 1px rgba(60, 64, 67, 0.15);\n",
              "      fill: #174EA6;\n",
              "    }\n",
              "\n",
              "    [theme=dark] .colab-df-convert {\n",
              "      background-color: #3B4455;\n",
              "      fill: #D2E3FC;\n",
              "    }\n",
              "\n",
              "    [theme=dark] .colab-df-convert:hover {\n",
              "      background-color: #434B5C;\n",
              "      box-shadow: 0px 1px 3px 1px rgba(0, 0, 0, 0.15);\n",
              "      filter: drop-shadow(0px 1px 2px rgba(0, 0, 0, 0.3));\n",
              "      fill: #FFFFFF;\n",
              "    }\n",
              "  </style>\n",
              "\n",
              "      <script>\n",
              "        const buttonEl =\n",
              "          document.querySelector('#df-3874f190-a81d-4aa1-83b0-654d6c970ce2 button.colab-df-convert');\n",
              "        buttonEl.style.display =\n",
              "          google.colab.kernel.accessAllowed ? 'block' : 'none';\n",
              "\n",
              "        async function convertToInteractive(key) {\n",
              "          const element = document.querySelector('#df-3874f190-a81d-4aa1-83b0-654d6c970ce2');\n",
              "          const dataTable =\n",
              "            await google.colab.kernel.invokeFunction('convertToInteractive',\n",
              "                                                     [key], {});\n",
              "          if (!dataTable) return;\n",
              "\n",
              "          const docLinkHtml = 'Like what you see? Visit the ' +\n",
              "            '<a target=\"_blank\" href=https://colab.research.google.com/notebooks/data_table.ipynb>data table notebook</a>'\n",
              "            + ' to learn more about interactive tables.';\n",
              "          element.innerHTML = '';\n",
              "          dataTable['output_type'] = 'display_data';\n",
              "          await google.colab.output.renderOutput(dataTable, element);\n",
              "          const docLink = document.createElement('div');\n",
              "          docLink.innerHTML = docLinkHtml;\n",
              "          element.appendChild(docLink);\n",
              "        }\n",
              "      </script>\n",
              "    </div>\n",
              "  </div>\n",
              "  "
            ]
          },
          "metadata": {},
          "execution_count": 54
        }
      ]
    },
    {
      "cell_type": "code",
      "source": [
        "#Percentual de tokkens selecionados\n",
        "(tokkens_significativos.shape[0]/df_frequencia.shape[0])*100"
      ],
      "metadata": {
        "colab": {
          "base_uri": "https://localhost:8080/"
        },
        "id": "w8rdUDoyG5FJ",
        "outputId": "3a5ad355-edd3-41e2-ac51-3c224918699c"
      },
      "execution_count": null,
      "outputs": [
        {
          "output_type": "execute_result",
          "data": {
            "text/plain": [
              "0.0012530599164866582"
            ]
          },
          "metadata": {},
          "execution_count": 55
        }
      ]
    },
    {
      "cell_type": "code",
      "source": [
        "df_analise_norm.head()"
      ],
      "metadata": {
        "id": "cNIix5rXHQG7",
        "colab": {
          "base_uri": "https://localhost:8080/",
          "height": 206
        },
        "outputId": "924a5494-1a68-4694-ddf0-402b02da67cd"
      },
      "execution_count": null,
      "outputs": [
        {
          "output_type": "execute_result",
          "data": {
            "text/plain": [
              "                Id Tokkens\n",
              "398234  2056834141    need\n",
              "398234  2056834141  someon\n",
              "398234  2056834141    reli\n",
              "398234  2056834141    work\n",
              "398234  2056834141   youll"
            ],
            "text/html": [
              "\n",
              "  <div id=\"df-8e306ca2-9855-4393-95b8-97409f541971\">\n",
              "    <div class=\"colab-df-container\">\n",
              "      <div>\n",
              "<style scoped>\n",
              "    .dataframe tbody tr th:only-of-type {\n",
              "        vertical-align: middle;\n",
              "    }\n",
              "\n",
              "    .dataframe tbody tr th {\n",
              "        vertical-align: top;\n",
              "    }\n",
              "\n",
              "    .dataframe thead th {\n",
              "        text-align: right;\n",
              "    }\n",
              "</style>\n",
              "<table border=\"1\" class=\"dataframe\">\n",
              "  <thead>\n",
              "    <tr style=\"text-align: right;\">\n",
              "      <th></th>\n",
              "      <th>Id</th>\n",
              "      <th>Tokkens</th>\n",
              "    </tr>\n",
              "  </thead>\n",
              "  <tbody>\n",
              "    <tr>\n",
              "      <th>398234</th>\n",
              "      <td>2056834141</td>\n",
              "      <td>need</td>\n",
              "    </tr>\n",
              "    <tr>\n",
              "      <th>398234</th>\n",
              "      <td>2056834141</td>\n",
              "      <td>someon</td>\n",
              "    </tr>\n",
              "    <tr>\n",
              "      <th>398234</th>\n",
              "      <td>2056834141</td>\n",
              "      <td>reli</td>\n",
              "    </tr>\n",
              "    <tr>\n",
              "      <th>398234</th>\n",
              "      <td>2056834141</td>\n",
              "      <td>work</td>\n",
              "    </tr>\n",
              "    <tr>\n",
              "      <th>398234</th>\n",
              "      <td>2056834141</td>\n",
              "      <td>youll</td>\n",
              "    </tr>\n",
              "  </tbody>\n",
              "</table>\n",
              "</div>\n",
              "      <button class=\"colab-df-convert\" onclick=\"convertToInteractive('df-8e306ca2-9855-4393-95b8-97409f541971')\"\n",
              "              title=\"Convert this dataframe to an interactive table.\"\n",
              "              style=\"display:none;\">\n",
              "        \n",
              "  <svg xmlns=\"http://www.w3.org/2000/svg\" height=\"24px\"viewBox=\"0 0 24 24\"\n",
              "       width=\"24px\">\n",
              "    <path d=\"M0 0h24v24H0V0z\" fill=\"none\"/>\n",
              "    <path d=\"M18.56 5.44l.94 2.06.94-2.06 2.06-.94-2.06-.94-.94-2.06-.94 2.06-2.06.94zm-11 1L8.5 8.5l.94-2.06 2.06-.94-2.06-.94L8.5 2.5l-.94 2.06-2.06.94zm10 10l.94 2.06.94-2.06 2.06-.94-2.06-.94-.94-2.06-.94 2.06-2.06.94z\"/><path d=\"M17.41 7.96l-1.37-1.37c-.4-.4-.92-.59-1.43-.59-.52 0-1.04.2-1.43.59L10.3 9.45l-7.72 7.72c-.78.78-.78 2.05 0 2.83L4 21.41c.39.39.9.59 1.41.59.51 0 1.02-.2 1.41-.59l7.78-7.78 2.81-2.81c.8-.78.8-2.07 0-2.86zM5.41 20L4 18.59l7.72-7.72 1.47 1.35L5.41 20z\"/>\n",
              "  </svg>\n",
              "      </button>\n",
              "      \n",
              "  <style>\n",
              "    .colab-df-container {\n",
              "      display:flex;\n",
              "      flex-wrap:wrap;\n",
              "      gap: 12px;\n",
              "    }\n",
              "\n",
              "    .colab-df-convert {\n",
              "      background-color: #E8F0FE;\n",
              "      border: none;\n",
              "      border-radius: 50%;\n",
              "      cursor: pointer;\n",
              "      display: none;\n",
              "      fill: #1967D2;\n",
              "      height: 32px;\n",
              "      padding: 0 0 0 0;\n",
              "      width: 32px;\n",
              "    }\n",
              "\n",
              "    .colab-df-convert:hover {\n",
              "      background-color: #E2EBFA;\n",
              "      box-shadow: 0px 1px 2px rgba(60, 64, 67, 0.3), 0px 1px 3px 1px rgba(60, 64, 67, 0.15);\n",
              "      fill: #174EA6;\n",
              "    }\n",
              "\n",
              "    [theme=dark] .colab-df-convert {\n",
              "      background-color: #3B4455;\n",
              "      fill: #D2E3FC;\n",
              "    }\n",
              "\n",
              "    [theme=dark] .colab-df-convert:hover {\n",
              "      background-color: #434B5C;\n",
              "      box-shadow: 0px 1px 3px 1px rgba(0, 0, 0, 0.15);\n",
              "      filter: drop-shadow(0px 1px 2px rgba(0, 0, 0, 0.3));\n",
              "      fill: #FFFFFF;\n",
              "    }\n",
              "  </style>\n",
              "\n",
              "      <script>\n",
              "        const buttonEl =\n",
              "          document.querySelector('#df-8e306ca2-9855-4393-95b8-97409f541971 button.colab-df-convert');\n",
              "        buttonEl.style.display =\n",
              "          google.colab.kernel.accessAllowed ? 'block' : 'none';\n",
              "\n",
              "        async function convertToInteractive(key) {\n",
              "          const element = document.querySelector('#df-8e306ca2-9855-4393-95b8-97409f541971');\n",
              "          const dataTable =\n",
              "            await google.colab.kernel.invokeFunction('convertToInteractive',\n",
              "                                                     [key], {});\n",
              "          if (!dataTable) return;\n",
              "\n",
              "          const docLinkHtml = 'Like what you see? Visit the ' +\n",
              "            '<a target=\"_blank\" href=https://colab.research.google.com/notebooks/data_table.ipynb>data table notebook</a>'\n",
              "            + ' to learn more about interactive tables.';\n",
              "          element.innerHTML = '';\n",
              "          dataTable['output_type'] = 'display_data';\n",
              "          await google.colab.output.renderOutput(dataTable, element);\n",
              "          const docLink = document.createElement('div');\n",
              "          docLink.innerHTML = docLinkHtml;\n",
              "          element.appendChild(docLink);\n",
              "        }\n",
              "      </script>\n",
              "    </div>\n",
              "  </div>\n",
              "  "
            ]
          },
          "metadata": {},
          "execution_count": 56
        }
      ]
    },
    {
      "cell_type": "markdown",
      "source": [
        "#Vetorização da base treino"
      ],
      "metadata": {
        "id": "_j-8K0rMzqY6"
      }
    },
    {
      "cell_type": "code",
      "source": [
        "df_analise_norm['Qtd']=1"
      ],
      "metadata": {
        "id": "BXCj7Qo5UZ6W"
      },
      "execution_count": null,
      "outputs": []
    },
    {
      "cell_type": "code",
      "source": [
        "df_analise_norm.head()"
      ],
      "metadata": {
        "colab": {
          "base_uri": "https://localhost:8080/",
          "height": 206
        },
        "id": "0JiPfK7NVe_0",
        "outputId": "61c13381-00cd-4a14-9111-2bc455b8b349"
      },
      "execution_count": null,
      "outputs": [
        {
          "output_type": "execute_result",
          "data": {
            "text/plain": [
              "                Id Tokkens  Qtd\n",
              "398234  2056834141    need    1\n",
              "398234  2056834141  someon    1\n",
              "398234  2056834141    reli    1\n",
              "398234  2056834141    work    1\n",
              "398234  2056834141   youll    1"
            ],
            "text/html": [
              "\n",
              "  <div id=\"df-5f2399fd-3169-47c1-ba49-efb8a641989b\">\n",
              "    <div class=\"colab-df-container\">\n",
              "      <div>\n",
              "<style scoped>\n",
              "    .dataframe tbody tr th:only-of-type {\n",
              "        vertical-align: middle;\n",
              "    }\n",
              "\n",
              "    .dataframe tbody tr th {\n",
              "        vertical-align: top;\n",
              "    }\n",
              "\n",
              "    .dataframe thead th {\n",
              "        text-align: right;\n",
              "    }\n",
              "</style>\n",
              "<table border=\"1\" class=\"dataframe\">\n",
              "  <thead>\n",
              "    <tr style=\"text-align: right;\">\n",
              "      <th></th>\n",
              "      <th>Id</th>\n",
              "      <th>Tokkens</th>\n",
              "      <th>Qtd</th>\n",
              "    </tr>\n",
              "  </thead>\n",
              "  <tbody>\n",
              "    <tr>\n",
              "      <th>398234</th>\n",
              "      <td>2056834141</td>\n",
              "      <td>need</td>\n",
              "      <td>1</td>\n",
              "    </tr>\n",
              "    <tr>\n",
              "      <th>398234</th>\n",
              "      <td>2056834141</td>\n",
              "      <td>someon</td>\n",
              "      <td>1</td>\n",
              "    </tr>\n",
              "    <tr>\n",
              "      <th>398234</th>\n",
              "      <td>2056834141</td>\n",
              "      <td>reli</td>\n",
              "      <td>1</td>\n",
              "    </tr>\n",
              "    <tr>\n",
              "      <th>398234</th>\n",
              "      <td>2056834141</td>\n",
              "      <td>work</td>\n",
              "      <td>1</td>\n",
              "    </tr>\n",
              "    <tr>\n",
              "      <th>398234</th>\n",
              "      <td>2056834141</td>\n",
              "      <td>youll</td>\n",
              "      <td>1</td>\n",
              "    </tr>\n",
              "  </tbody>\n",
              "</table>\n",
              "</div>\n",
              "      <button class=\"colab-df-convert\" onclick=\"convertToInteractive('df-5f2399fd-3169-47c1-ba49-efb8a641989b')\"\n",
              "              title=\"Convert this dataframe to an interactive table.\"\n",
              "              style=\"display:none;\">\n",
              "        \n",
              "  <svg xmlns=\"http://www.w3.org/2000/svg\" height=\"24px\"viewBox=\"0 0 24 24\"\n",
              "       width=\"24px\">\n",
              "    <path d=\"M0 0h24v24H0V0z\" fill=\"none\"/>\n",
              "    <path d=\"M18.56 5.44l.94 2.06.94-2.06 2.06-.94-2.06-.94-.94-2.06-.94 2.06-2.06.94zm-11 1L8.5 8.5l.94-2.06 2.06-.94-2.06-.94L8.5 2.5l-.94 2.06-2.06.94zm10 10l.94 2.06.94-2.06 2.06-.94-2.06-.94-.94-2.06-.94 2.06-2.06.94z\"/><path d=\"M17.41 7.96l-1.37-1.37c-.4-.4-.92-.59-1.43-.59-.52 0-1.04.2-1.43.59L10.3 9.45l-7.72 7.72c-.78.78-.78 2.05 0 2.83L4 21.41c.39.39.9.59 1.41.59.51 0 1.02-.2 1.41-.59l7.78-7.78 2.81-2.81c.8-.78.8-2.07 0-2.86zM5.41 20L4 18.59l7.72-7.72 1.47 1.35L5.41 20z\"/>\n",
              "  </svg>\n",
              "      </button>\n",
              "      \n",
              "  <style>\n",
              "    .colab-df-container {\n",
              "      display:flex;\n",
              "      flex-wrap:wrap;\n",
              "      gap: 12px;\n",
              "    }\n",
              "\n",
              "    .colab-df-convert {\n",
              "      background-color: #E8F0FE;\n",
              "      border: none;\n",
              "      border-radius: 50%;\n",
              "      cursor: pointer;\n",
              "      display: none;\n",
              "      fill: #1967D2;\n",
              "      height: 32px;\n",
              "      padding: 0 0 0 0;\n",
              "      width: 32px;\n",
              "    }\n",
              "\n",
              "    .colab-df-convert:hover {\n",
              "      background-color: #E2EBFA;\n",
              "      box-shadow: 0px 1px 2px rgba(60, 64, 67, 0.3), 0px 1px 3px 1px rgba(60, 64, 67, 0.15);\n",
              "      fill: #174EA6;\n",
              "    }\n",
              "\n",
              "    [theme=dark] .colab-df-convert {\n",
              "      background-color: #3B4455;\n",
              "      fill: #D2E3FC;\n",
              "    }\n",
              "\n",
              "    [theme=dark] .colab-df-convert:hover {\n",
              "      background-color: #434B5C;\n",
              "      box-shadow: 0px 1px 3px 1px rgba(0, 0, 0, 0.15);\n",
              "      filter: drop-shadow(0px 1px 2px rgba(0, 0, 0, 0.3));\n",
              "      fill: #FFFFFF;\n",
              "    }\n",
              "  </style>\n",
              "\n",
              "      <script>\n",
              "        const buttonEl =\n",
              "          document.querySelector('#df-5f2399fd-3169-47c1-ba49-efb8a641989b button.colab-df-convert');\n",
              "        buttonEl.style.display =\n",
              "          google.colab.kernel.accessAllowed ? 'block' : 'none';\n",
              "\n",
              "        async function convertToInteractive(key) {\n",
              "          const element = document.querySelector('#df-5f2399fd-3169-47c1-ba49-efb8a641989b');\n",
              "          const dataTable =\n",
              "            await google.colab.kernel.invokeFunction('convertToInteractive',\n",
              "                                                     [key], {});\n",
              "          if (!dataTable) return;\n",
              "\n",
              "          const docLinkHtml = 'Like what you see? Visit the ' +\n",
              "            '<a target=\"_blank\" href=https://colab.research.google.com/notebooks/data_table.ipynb>data table notebook</a>'\n",
              "            + ' to learn more about interactive tables.';\n",
              "          element.innerHTML = '';\n",
              "          dataTable['output_type'] = 'display_data';\n",
              "          await google.colab.output.renderOutput(dataTable, element);\n",
              "          const docLink = document.createElement('div');\n",
              "          docLink.innerHTML = docLinkHtml;\n",
              "          element.appendChild(docLink);\n",
              "        }\n",
              "      </script>\n",
              "    </div>\n",
              "  </div>\n",
              "  "
            ]
          },
          "metadata": {},
          "execution_count": 58
        }
      ]
    },
    {
      "cell_type": "code",
      "source": [
        "df_analise_norm.shape"
      ],
      "metadata": {
        "colab": {
          "base_uri": "https://localhost:8080/"
        },
        "id": "60oQhPnGYNAJ",
        "outputId": "2341c711-9813-4d28-b978-353e4563f32f"
      },
      "execution_count": null,
      "outputs": [
        {
          "output_type": "execute_result",
          "data": {
            "text/plain": [
              "(20643402, 3)"
            ]
          },
          "metadata": {},
          "execution_count": 59
        }
      ]
    },
    {
      "cell_type": "markdown",
      "source": [
        "##Remove tokkens não significativos"
      ],
      "metadata": {
        "id": "Pb5_3c65zwPP"
      }
    },
    {
      "cell_type": "code",
      "source": [
        "df_filtro=df_analise_norm.loc[df_analise_norm['Tokkens'].isin(tokkens_significativos['Tokkens'])]"
      ],
      "metadata": {
        "id": "d5FhX3mPtwG5"
      },
      "execution_count": null,
      "outputs": []
    },
    {
      "cell_type": "code",
      "source": [
        "pd.set_option('max_colwidth', 400)\n",
        "x_treino.loc[x_treino['Id'] == 2190665922]"
      ],
      "metadata": {
        "colab": {
          "base_uri": "https://localhost:8080/",
          "height": 49
        },
        "id": "6t3ftX28xknY",
        "outputId": "09abbdf0-aadd-4ed3-89e4-904fe104a759"
      },
      "execution_count": null,
      "outputs": [
        {
          "output_type": "execute_result",
          "data": {
            "text/plain": [
              "Empty DataFrame\n",
              "Columns: [Id, Texto]\n",
              "Index: []"
            ],
            "text/html": [
              "\n",
              "  <div id=\"df-712b8242-baa4-4981-ad67-99f24d885a6d\">\n",
              "    <div class=\"colab-df-container\">\n",
              "      <div>\n",
              "<style scoped>\n",
              "    .dataframe tbody tr th:only-of-type {\n",
              "        vertical-align: middle;\n",
              "    }\n",
              "\n",
              "    .dataframe tbody tr th {\n",
              "        vertical-align: top;\n",
              "    }\n",
              "\n",
              "    .dataframe thead th {\n",
              "        text-align: right;\n",
              "    }\n",
              "</style>\n",
              "<table border=\"1\" class=\"dataframe\">\n",
              "  <thead>\n",
              "    <tr style=\"text-align: right;\">\n",
              "      <th></th>\n",
              "      <th>Id</th>\n",
              "      <th>Texto</th>\n",
              "    </tr>\n",
              "  </thead>\n",
              "  <tbody>\n",
              "  </tbody>\n",
              "</table>\n",
              "</div>\n",
              "      <button class=\"colab-df-convert\" onclick=\"convertToInteractive('df-712b8242-baa4-4981-ad67-99f24d885a6d')\"\n",
              "              title=\"Convert this dataframe to an interactive table.\"\n",
              "              style=\"display:none;\">\n",
              "        \n",
              "  <svg xmlns=\"http://www.w3.org/2000/svg\" height=\"24px\"viewBox=\"0 0 24 24\"\n",
              "       width=\"24px\">\n",
              "    <path d=\"M0 0h24v24H0V0z\" fill=\"none\"/>\n",
              "    <path d=\"M18.56 5.44l.94 2.06.94-2.06 2.06-.94-2.06-.94-.94-2.06-.94 2.06-2.06.94zm-11 1L8.5 8.5l.94-2.06 2.06-.94-2.06-.94L8.5 2.5l-.94 2.06-2.06.94zm10 10l.94 2.06.94-2.06 2.06-.94-2.06-.94-.94-2.06-.94 2.06-2.06.94z\"/><path d=\"M17.41 7.96l-1.37-1.37c-.4-.4-.92-.59-1.43-.59-.52 0-1.04.2-1.43.59L10.3 9.45l-7.72 7.72c-.78.78-.78 2.05 0 2.83L4 21.41c.39.39.9.59 1.41.59.51 0 1.02-.2 1.41-.59l7.78-7.78 2.81-2.81c.8-.78.8-2.07 0-2.86zM5.41 20L4 18.59l7.72-7.72 1.47 1.35L5.41 20z\"/>\n",
              "  </svg>\n",
              "      </button>\n",
              "      \n",
              "  <style>\n",
              "    .colab-df-container {\n",
              "      display:flex;\n",
              "      flex-wrap:wrap;\n",
              "      gap: 12px;\n",
              "    }\n",
              "\n",
              "    .colab-df-convert {\n",
              "      background-color: #E8F0FE;\n",
              "      border: none;\n",
              "      border-radius: 50%;\n",
              "      cursor: pointer;\n",
              "      display: none;\n",
              "      fill: #1967D2;\n",
              "      height: 32px;\n",
              "      padding: 0 0 0 0;\n",
              "      width: 32px;\n",
              "    }\n",
              "\n",
              "    .colab-df-convert:hover {\n",
              "      background-color: #E2EBFA;\n",
              "      box-shadow: 0px 1px 2px rgba(60, 64, 67, 0.3), 0px 1px 3px 1px rgba(60, 64, 67, 0.15);\n",
              "      fill: #174EA6;\n",
              "    }\n",
              "\n",
              "    [theme=dark] .colab-df-convert {\n",
              "      background-color: #3B4455;\n",
              "      fill: #D2E3FC;\n",
              "    }\n",
              "\n",
              "    [theme=dark] .colab-df-convert:hover {\n",
              "      background-color: #434B5C;\n",
              "      box-shadow: 0px 1px 3px 1px rgba(0, 0, 0, 0.15);\n",
              "      filter: drop-shadow(0px 1px 2px rgba(0, 0, 0, 0.3));\n",
              "      fill: #FFFFFF;\n",
              "    }\n",
              "  </style>\n",
              "\n",
              "      <script>\n",
              "        const buttonEl =\n",
              "          document.querySelector('#df-712b8242-baa4-4981-ad67-99f24d885a6d button.colab-df-convert');\n",
              "        buttonEl.style.display =\n",
              "          google.colab.kernel.accessAllowed ? 'block' : 'none';\n",
              "\n",
              "        async function convertToInteractive(key) {\n",
              "          const element = document.querySelector('#df-712b8242-baa4-4981-ad67-99f24d885a6d');\n",
              "          const dataTable =\n",
              "            await google.colab.kernel.invokeFunction('convertToInteractive',\n",
              "                                                     [key], {});\n",
              "          if (!dataTable) return;\n",
              "\n",
              "          const docLinkHtml = 'Like what you see? Visit the ' +\n",
              "            '<a target=\"_blank\" href=https://colab.research.google.com/notebooks/data_table.ipynb>data table notebook</a>'\n",
              "            + ' to learn more about interactive tables.';\n",
              "          element.innerHTML = '';\n",
              "          dataTable['output_type'] = 'display_data';\n",
              "          await google.colab.output.renderOutput(dataTable, element);\n",
              "          const docLink = document.createElement('div');\n",
              "          docLink.innerHTML = docLinkHtml;\n",
              "          element.appendChild(docLink);\n",
              "        }\n",
              "      </script>\n",
              "    </div>\n",
              "  </div>\n",
              "  "
            ]
          },
          "metadata": {},
          "execution_count": 61
        }
      ]
    },
    {
      "cell_type": "code",
      "source": [
        "df_filtro[df_filtro['Id']==2190665922]"
      ],
      "metadata": {
        "colab": {
          "base_uri": "https://localhost:8080/",
          "height": 49
        },
        "id": "FOH3nS76tv_H",
        "outputId": "cef46b06-01cd-4ea4-d717-24e92bc4362a"
      },
      "execution_count": null,
      "outputs": [
        {
          "output_type": "execute_result",
          "data": {
            "text/plain": [
              "Empty DataFrame\n",
              "Columns: [Id, Tokkens, Qtd]\n",
              "Index: []"
            ],
            "text/html": [
              "\n",
              "  <div id=\"df-bf702d9b-eb51-4d38-97ff-215b9d5922e3\">\n",
              "    <div class=\"colab-df-container\">\n",
              "      <div>\n",
              "<style scoped>\n",
              "    .dataframe tbody tr th:only-of-type {\n",
              "        vertical-align: middle;\n",
              "    }\n",
              "\n",
              "    .dataframe tbody tr th {\n",
              "        vertical-align: top;\n",
              "    }\n",
              "\n",
              "    .dataframe thead th {\n",
              "        text-align: right;\n",
              "    }\n",
              "</style>\n",
              "<table border=\"1\" class=\"dataframe\">\n",
              "  <thead>\n",
              "    <tr style=\"text-align: right;\">\n",
              "      <th></th>\n",
              "      <th>Id</th>\n",
              "      <th>Tokkens</th>\n",
              "      <th>Qtd</th>\n",
              "    </tr>\n",
              "  </thead>\n",
              "  <tbody>\n",
              "  </tbody>\n",
              "</table>\n",
              "</div>\n",
              "      <button class=\"colab-df-convert\" onclick=\"convertToInteractive('df-bf702d9b-eb51-4d38-97ff-215b9d5922e3')\"\n",
              "              title=\"Convert this dataframe to an interactive table.\"\n",
              "              style=\"display:none;\">\n",
              "        \n",
              "  <svg xmlns=\"http://www.w3.org/2000/svg\" height=\"24px\"viewBox=\"0 0 24 24\"\n",
              "       width=\"24px\">\n",
              "    <path d=\"M0 0h24v24H0V0z\" fill=\"none\"/>\n",
              "    <path d=\"M18.56 5.44l.94 2.06.94-2.06 2.06-.94-2.06-.94-.94-2.06-.94 2.06-2.06.94zm-11 1L8.5 8.5l.94-2.06 2.06-.94-2.06-.94L8.5 2.5l-.94 2.06-2.06.94zm10 10l.94 2.06.94-2.06 2.06-.94-2.06-.94-.94-2.06-.94 2.06-2.06.94z\"/><path d=\"M17.41 7.96l-1.37-1.37c-.4-.4-.92-.59-1.43-.59-.52 0-1.04.2-1.43.59L10.3 9.45l-7.72 7.72c-.78.78-.78 2.05 0 2.83L4 21.41c.39.39.9.59 1.41.59.51 0 1.02-.2 1.41-.59l7.78-7.78 2.81-2.81c.8-.78.8-2.07 0-2.86zM5.41 20L4 18.59l7.72-7.72 1.47 1.35L5.41 20z\"/>\n",
              "  </svg>\n",
              "      </button>\n",
              "      \n",
              "  <style>\n",
              "    .colab-df-container {\n",
              "      display:flex;\n",
              "      flex-wrap:wrap;\n",
              "      gap: 12px;\n",
              "    }\n",
              "\n",
              "    .colab-df-convert {\n",
              "      background-color: #E8F0FE;\n",
              "      border: none;\n",
              "      border-radius: 50%;\n",
              "      cursor: pointer;\n",
              "      display: none;\n",
              "      fill: #1967D2;\n",
              "      height: 32px;\n",
              "      padding: 0 0 0 0;\n",
              "      width: 32px;\n",
              "    }\n",
              "\n",
              "    .colab-df-convert:hover {\n",
              "      background-color: #E2EBFA;\n",
              "      box-shadow: 0px 1px 2px rgba(60, 64, 67, 0.3), 0px 1px 3px 1px rgba(60, 64, 67, 0.15);\n",
              "      fill: #174EA6;\n",
              "    }\n",
              "\n",
              "    [theme=dark] .colab-df-convert {\n",
              "      background-color: #3B4455;\n",
              "      fill: #D2E3FC;\n",
              "    }\n",
              "\n",
              "    [theme=dark] .colab-df-convert:hover {\n",
              "      background-color: #434B5C;\n",
              "      box-shadow: 0px 1px 3px 1px rgba(0, 0, 0, 0.15);\n",
              "      filter: drop-shadow(0px 1px 2px rgba(0, 0, 0, 0.3));\n",
              "      fill: #FFFFFF;\n",
              "    }\n",
              "  </style>\n",
              "\n",
              "      <script>\n",
              "        const buttonEl =\n",
              "          document.querySelector('#df-bf702d9b-eb51-4d38-97ff-215b9d5922e3 button.colab-df-convert');\n",
              "        buttonEl.style.display =\n",
              "          google.colab.kernel.accessAllowed ? 'block' : 'none';\n",
              "\n",
              "        async function convertToInteractive(key) {\n",
              "          const element = document.querySelector('#df-bf702d9b-eb51-4d38-97ff-215b9d5922e3');\n",
              "          const dataTable =\n",
              "            await google.colab.kernel.invokeFunction('convertToInteractive',\n",
              "                                                     [key], {});\n",
              "          if (!dataTable) return;\n",
              "\n",
              "          const docLinkHtml = 'Like what you see? Visit the ' +\n",
              "            '<a target=\"_blank\" href=https://colab.research.google.com/notebooks/data_table.ipynb>data table notebook</a>'\n",
              "            + ' to learn more about interactive tables.';\n",
              "          element.innerHTML = '';\n",
              "          dataTable['output_type'] = 'display_data';\n",
              "          await google.colab.output.renderOutput(dataTable, element);\n",
              "          const docLink = document.createElement('div');\n",
              "          docLink.innerHTML = docLinkHtml;\n",
              "          element.appendChild(docLink);\n",
              "        }\n",
              "      </script>\n",
              "    </div>\n",
              "  </div>\n",
              "  "
            ]
          },
          "metadata": {},
          "execution_count": 62
        }
      ]
    },
    {
      "cell_type": "markdown",
      "source": [
        "##Pivot"
      ],
      "metadata": {
        "id": "0jvif-iVz4fQ"
      }
    },
    {
      "cell_type": "code",
      "source": [
        "df_filtro.reset_index(inplace=True)"
      ],
      "metadata": {
        "id": "-VDK6POhtvwF"
      },
      "execution_count": null,
      "outputs": []
    },
    {
      "cell_type": "code",
      "source": [
        "x_treino_pivot=  pd.pivot_table(df_filtro, values='Qtd', index='Id', columns='Tokkens',\n",
        "                         aggfunc='sum', fill_value=0)"
      ],
      "metadata": {
        "id": "nqk3EbNcV_t3"
      },
      "execution_count": null,
      "outputs": []
    },
    {
      "cell_type": "code",
      "source": [
        "x_treino_pivot.shape"
      ],
      "metadata": {
        "colab": {
          "base_uri": "https://localhost:8080/"
        },
        "id": "8056QGpNy6bb",
        "outputId": "a91116c7-a129-4e69-91e5-70f4e9c8b5b6"
      },
      "execution_count": null,
      "outputs": [
        {
          "output_type": "execute_result",
          "data": {
            "text/plain": [
              "(950787, 101)"
            ]
          },
          "metadata": {},
          "execution_count": 65
        }
      ]
    },
    {
      "cell_type": "code",
      "source": [
        "x_treino_pivot.head()"
      ],
      "metadata": {
        "colab": {
          "base_uri": "https://localhost:8080/",
          "height": 267
        },
        "id": "OEewzSe9WYJg",
        "outputId": "93d80fff-ec14-482b-b951-a34c09223372"
      },
      "execution_count": null,
      "outputs": [
        {
          "output_type": "execute_result",
          "data": {
            "text/plain": [
              "Tokkens     amp  awesom  back  bad  bed  better  cant  come  could  day  ...  \\\n",
              "Id                                                                       ...   \n",
              "1467810369    0       0     0    0    0       0     0     0      0    1  ...   \n",
              "1467810672    0       0     0    0    0       0     1     0      0    0  ...   \n",
              "1467811184    0       0     0    0    0       0     0     0      0    0  ...   \n",
              "1467811795    0       0     0    0    0       0     0     0      0    0  ...   \n",
              "1467812723    0       0     0    0    0       0     0     0      0    0  ...   \n",
              "\n",
              "Tokkens     way  week  weekend  well  wish  work  would  ye  yeah  your  \n",
              "Id                                                                       \n",
              "1467810369    0     0        0     0     0     0      0   0     0     0  \n",
              "1467810672    0     0        0     0     0     0      0   0     0     0  \n",
              "1467811184    0     0        0     0     0     0      0   0     0     0  \n",
              "1467811795    0     0        0     0     0     0      0   0     0     0  \n",
              "1467812723    0     0        0     0     0     0      0   0     0     0  \n",
              "\n",
              "[5 rows x 101 columns]"
            ],
            "text/html": [
              "\n",
              "  <div id=\"df-31ec99af-8152-48ac-a1e2-7b9f0b606f0f\">\n",
              "    <div class=\"colab-df-container\">\n",
              "      <div>\n",
              "<style scoped>\n",
              "    .dataframe tbody tr th:only-of-type {\n",
              "        vertical-align: middle;\n",
              "    }\n",
              "\n",
              "    .dataframe tbody tr th {\n",
              "        vertical-align: top;\n",
              "    }\n",
              "\n",
              "    .dataframe thead th {\n",
              "        text-align: right;\n",
              "    }\n",
              "</style>\n",
              "<table border=\"1\" class=\"dataframe\">\n",
              "  <thead>\n",
              "    <tr style=\"text-align: right;\">\n",
              "      <th>Tokkens</th>\n",
              "      <th>amp</th>\n",
              "      <th>awesom</th>\n",
              "      <th>back</th>\n",
              "      <th>bad</th>\n",
              "      <th>bed</th>\n",
              "      <th>better</th>\n",
              "      <th>cant</th>\n",
              "      <th>come</th>\n",
              "      <th>could</th>\n",
              "      <th>day</th>\n",
              "      <th>...</th>\n",
              "      <th>way</th>\n",
              "      <th>week</th>\n",
              "      <th>weekend</th>\n",
              "      <th>well</th>\n",
              "      <th>wish</th>\n",
              "      <th>work</th>\n",
              "      <th>would</th>\n",
              "      <th>ye</th>\n",
              "      <th>yeah</th>\n",
              "      <th>your</th>\n",
              "    </tr>\n",
              "    <tr>\n",
              "      <th>Id</th>\n",
              "      <th></th>\n",
              "      <th></th>\n",
              "      <th></th>\n",
              "      <th></th>\n",
              "      <th></th>\n",
              "      <th></th>\n",
              "      <th></th>\n",
              "      <th></th>\n",
              "      <th></th>\n",
              "      <th></th>\n",
              "      <th></th>\n",
              "      <th></th>\n",
              "      <th></th>\n",
              "      <th></th>\n",
              "      <th></th>\n",
              "      <th></th>\n",
              "      <th></th>\n",
              "      <th></th>\n",
              "      <th></th>\n",
              "      <th></th>\n",
              "      <th></th>\n",
              "    </tr>\n",
              "  </thead>\n",
              "  <tbody>\n",
              "    <tr>\n",
              "      <th>1467810369</th>\n",
              "      <td>0</td>\n",
              "      <td>0</td>\n",
              "      <td>0</td>\n",
              "      <td>0</td>\n",
              "      <td>0</td>\n",
              "      <td>0</td>\n",
              "      <td>0</td>\n",
              "      <td>0</td>\n",
              "      <td>0</td>\n",
              "      <td>1</td>\n",
              "      <td>...</td>\n",
              "      <td>0</td>\n",
              "      <td>0</td>\n",
              "      <td>0</td>\n",
              "      <td>0</td>\n",
              "      <td>0</td>\n",
              "      <td>0</td>\n",
              "      <td>0</td>\n",
              "      <td>0</td>\n",
              "      <td>0</td>\n",
              "      <td>0</td>\n",
              "    </tr>\n",
              "    <tr>\n",
              "      <th>1467810672</th>\n",
              "      <td>0</td>\n",
              "      <td>0</td>\n",
              "      <td>0</td>\n",
              "      <td>0</td>\n",
              "      <td>0</td>\n",
              "      <td>0</td>\n",
              "      <td>1</td>\n",
              "      <td>0</td>\n",
              "      <td>0</td>\n",
              "      <td>0</td>\n",
              "      <td>...</td>\n",
              "      <td>0</td>\n",
              "      <td>0</td>\n",
              "      <td>0</td>\n",
              "      <td>0</td>\n",
              "      <td>0</td>\n",
              "      <td>0</td>\n",
              "      <td>0</td>\n",
              "      <td>0</td>\n",
              "      <td>0</td>\n",
              "      <td>0</td>\n",
              "    </tr>\n",
              "    <tr>\n",
              "      <th>1467811184</th>\n",
              "      <td>0</td>\n",
              "      <td>0</td>\n",
              "      <td>0</td>\n",
              "      <td>0</td>\n",
              "      <td>0</td>\n",
              "      <td>0</td>\n",
              "      <td>0</td>\n",
              "      <td>0</td>\n",
              "      <td>0</td>\n",
              "      <td>0</td>\n",
              "      <td>...</td>\n",
              "      <td>0</td>\n",
              "      <td>0</td>\n",
              "      <td>0</td>\n",
              "      <td>0</td>\n",
              "      <td>0</td>\n",
              "      <td>0</td>\n",
              "      <td>0</td>\n",
              "      <td>0</td>\n",
              "      <td>0</td>\n",
              "      <td>0</td>\n",
              "    </tr>\n",
              "    <tr>\n",
              "      <th>1467811795</th>\n",
              "      <td>0</td>\n",
              "      <td>0</td>\n",
              "      <td>0</td>\n",
              "      <td>0</td>\n",
              "      <td>0</td>\n",
              "      <td>0</td>\n",
              "      <td>0</td>\n",
              "      <td>0</td>\n",
              "      <td>0</td>\n",
              "      <td>0</td>\n",
              "      <td>...</td>\n",
              "      <td>0</td>\n",
              "      <td>0</td>\n",
              "      <td>0</td>\n",
              "      <td>0</td>\n",
              "      <td>0</td>\n",
              "      <td>0</td>\n",
              "      <td>0</td>\n",
              "      <td>0</td>\n",
              "      <td>0</td>\n",
              "      <td>0</td>\n",
              "    </tr>\n",
              "    <tr>\n",
              "      <th>1467812723</th>\n",
              "      <td>0</td>\n",
              "      <td>0</td>\n",
              "      <td>0</td>\n",
              "      <td>0</td>\n",
              "      <td>0</td>\n",
              "      <td>0</td>\n",
              "      <td>0</td>\n",
              "      <td>0</td>\n",
              "      <td>0</td>\n",
              "      <td>0</td>\n",
              "      <td>...</td>\n",
              "      <td>0</td>\n",
              "      <td>0</td>\n",
              "      <td>0</td>\n",
              "      <td>0</td>\n",
              "      <td>0</td>\n",
              "      <td>0</td>\n",
              "      <td>0</td>\n",
              "      <td>0</td>\n",
              "      <td>0</td>\n",
              "      <td>0</td>\n",
              "    </tr>\n",
              "  </tbody>\n",
              "</table>\n",
              "<p>5 rows × 101 columns</p>\n",
              "</div>\n",
              "      <button class=\"colab-df-convert\" onclick=\"convertToInteractive('df-31ec99af-8152-48ac-a1e2-7b9f0b606f0f')\"\n",
              "              title=\"Convert this dataframe to an interactive table.\"\n",
              "              style=\"display:none;\">\n",
              "        \n",
              "  <svg xmlns=\"http://www.w3.org/2000/svg\" height=\"24px\"viewBox=\"0 0 24 24\"\n",
              "       width=\"24px\">\n",
              "    <path d=\"M0 0h24v24H0V0z\" fill=\"none\"/>\n",
              "    <path d=\"M18.56 5.44l.94 2.06.94-2.06 2.06-.94-2.06-.94-.94-2.06-.94 2.06-2.06.94zm-11 1L8.5 8.5l.94-2.06 2.06-.94-2.06-.94L8.5 2.5l-.94 2.06-2.06.94zm10 10l.94 2.06.94-2.06 2.06-.94-2.06-.94-.94-2.06-.94 2.06-2.06.94z\"/><path d=\"M17.41 7.96l-1.37-1.37c-.4-.4-.92-.59-1.43-.59-.52 0-1.04.2-1.43.59L10.3 9.45l-7.72 7.72c-.78.78-.78 2.05 0 2.83L4 21.41c.39.39.9.59 1.41.59.51 0 1.02-.2 1.41-.59l7.78-7.78 2.81-2.81c.8-.78.8-2.07 0-2.86zM5.41 20L4 18.59l7.72-7.72 1.47 1.35L5.41 20z\"/>\n",
              "  </svg>\n",
              "      </button>\n",
              "      \n",
              "  <style>\n",
              "    .colab-df-container {\n",
              "      display:flex;\n",
              "      flex-wrap:wrap;\n",
              "      gap: 12px;\n",
              "    }\n",
              "\n",
              "    .colab-df-convert {\n",
              "      background-color: #E8F0FE;\n",
              "      border: none;\n",
              "      border-radius: 50%;\n",
              "      cursor: pointer;\n",
              "      display: none;\n",
              "      fill: #1967D2;\n",
              "      height: 32px;\n",
              "      padding: 0 0 0 0;\n",
              "      width: 32px;\n",
              "    }\n",
              "\n",
              "    .colab-df-convert:hover {\n",
              "      background-color: #E2EBFA;\n",
              "      box-shadow: 0px 1px 2px rgba(60, 64, 67, 0.3), 0px 1px 3px 1px rgba(60, 64, 67, 0.15);\n",
              "      fill: #174EA6;\n",
              "    }\n",
              "\n",
              "    [theme=dark] .colab-df-convert {\n",
              "      background-color: #3B4455;\n",
              "      fill: #D2E3FC;\n",
              "    }\n",
              "\n",
              "    [theme=dark] .colab-df-convert:hover {\n",
              "      background-color: #434B5C;\n",
              "      box-shadow: 0px 1px 3px 1px rgba(0, 0, 0, 0.15);\n",
              "      filter: drop-shadow(0px 1px 2px rgba(0, 0, 0, 0.3));\n",
              "      fill: #FFFFFF;\n",
              "    }\n",
              "  </style>\n",
              "\n",
              "      <script>\n",
              "        const buttonEl =\n",
              "          document.querySelector('#df-31ec99af-8152-48ac-a1e2-7b9f0b606f0f button.colab-df-convert');\n",
              "        buttonEl.style.display =\n",
              "          google.colab.kernel.accessAllowed ? 'block' : 'none';\n",
              "\n",
              "        async function convertToInteractive(key) {\n",
              "          const element = document.querySelector('#df-31ec99af-8152-48ac-a1e2-7b9f0b606f0f');\n",
              "          const dataTable =\n",
              "            await google.colab.kernel.invokeFunction('convertToInteractive',\n",
              "                                                     [key], {});\n",
              "          if (!dataTable) return;\n",
              "\n",
              "          const docLinkHtml = 'Like what you see? Visit the ' +\n",
              "            '<a target=\"_blank\" href=https://colab.research.google.com/notebooks/data_table.ipynb>data table notebook</a>'\n",
              "            + ' to learn more about interactive tables.';\n",
              "          element.innerHTML = '';\n",
              "          dataTable['output_type'] = 'display_data';\n",
              "          await google.colab.output.renderOutput(dataTable, element);\n",
              "          const docLink = document.createElement('div');\n",
              "          docLink.innerHTML = docLinkHtml;\n",
              "          element.appendChild(docLink);\n",
              "        }\n",
              "      </script>\n",
              "    </div>\n",
              "  </div>\n",
              "  "
            ]
          },
          "metadata": {},
          "execution_count": 66
        }
      ]
    },
    {
      "cell_type": "code",
      "source": [
        "del df_analise_norm"
      ],
      "metadata": {
        "id": "4CzzU6h80TO_"
      },
      "execution_count": null,
      "outputs": []
    },
    {
      "cell_type": "code",
      "source": [
        "del df_demo"
      ],
      "metadata": {
        "id": "D_4zAQho0V36"
      },
      "execution_count": null,
      "outputs": []
    },
    {
      "cell_type": "code",
      "source": [
        "del df_frequencia"
      ],
      "metadata": {
        "id": "qoKyuXgB0Y4k"
      },
      "execution_count": null,
      "outputs": []
    },
    {
      "cell_type": "code",
      "source": [],
      "metadata": {
        "id": "tu-N7ZSh0ec-"
      },
      "execution_count": null,
      "outputs": []
    }
  ]
}